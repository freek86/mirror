{
 "cells": [
  {
   "cell_type": "markdown",
   "metadata": {},
   "source": [
    "# NB3: Program flow control with Conditional Statements and Loops\n",
    "\n",
    "* [Learning objectives](#section_3_1)\n",
    "* [Conditional statements](#section_3_2)\n",
    "    * [The `if` statement](#sub_section_3_2_1)\n",
    "    * [Comparison and test operators](#sub_section_3_2_2)\n",
    "    * [Logical operations](#sub_section_3_2_3)\n",
    "    * [The elif and else statements](#sub_section_3_2_4)    \n",
    "* [Loops](#section_3_3)    \n",
    "    * [The while loop](#sub_section_3_3_1)\n",
    "    * [When should I use a while loop?](#sub_section_3_3_2)\n",
    "    * [The for loop](#sub_section_3_3_3)\n",
    "    * [The range() function](#sub_section_3_3_4)    \n",
    "    * [Using for loops with things other than ranges of numbers](#sub_section_3_3_5)  \n",
    "    * [Manually exiting or skipping a loop using break and continue](#sub_section_3_3_6) \n",
    "* [Solutions to Exercises](#section_3_4)\n"
   ]
  },
  {
   "cell_type": "markdown",
   "metadata": {},
   "source": [
    "## Pre/Post-test<a class=\"anchor\" id=\"section_1_0\"></a>\n",
    "This test is for testing your current skills in Python. You can use it in two ways:\n",
    "* pre-test: to test your skills beforehand. If you are already proficient in Python, and can do this test within approximately 15 minutes, you can scan through the notebook rather than carefully reading each sentence.\n",
    "* post-test: to test your skills after Notebook 3. Check whether you learned enough.\n",
    "\n",
    "### Including password protection\n",
    "Although the supervisors are impressed by the work Eric is doing, his co-workers are not as happy by the quick progress Eric is making. Due to the large number of error messages in his code recently, he is convinced someone is messing with his code... Therefore he decides to write a program that asks the user to enter the password and checks whether it is correct. As a typo might occur, the user has three tries, after which the program should shut down. After every try tell the user whether the password is correct or not and how many tries are left. If the user has not provided the right passwork within the required number of attempts, provide a warning message.\n",
    "\n",
    "Write the code."
   ]
  },
  {
   "cell_type": "code",
   "execution_count": null,
   "metadata": {},
   "outputs": [],
   "source": [
    "password = 'practicum123'\n",
    "tries = 0 \n",
    "\n",
    "### Your code"
   ]
  },
  {
   "cell_type": "markdown",
   "metadata": {
    "nbgrader": {
     "grade": false,
     "grade_id": "cell-820ab9eec85e7818",
     "locked": true,
     "schema_version": 3,
     "solution": false,
     "task": false
    }
   },
   "source": [
    "## Learning objectives<a class=\"anchor\" id=\"section_3_1\"></a>\n",
    "\n",
    "In this notebook, we will learn how to control the flow of execution of Python code using conditional statements and loops. \n",
    "\n",
    "After completing this notebook, you are able to:\n",
    "\n",
    "* create conditional branching statements using `if`, `elif`, and `else`\n",
    "* formulate conditions using `==`, `<`, `>`\n",
    "* combine logical conditions using `and` and `or`\n",
    "* create a `while` loop that exits on a particular condition\n",
    "* create a `for` loop that loops over a range of numbers using the `range()` command\n",
    "* exit loops using the `break` command\n",
    "* skip the rest of a code block in a loop using `continue`\n",
    "\n"
   ]
  },
  {
   "cell_type": "markdown",
   "metadata": {},
   "source": [
    "## Conditional statements<a class=\"anchor\" id=\"section_3_2\"></a>\n",
    "\n",
    "A powerful concept in programming languages are pieces of code that allow you to control if segments or your code are executed or not based of the value of variables in your code. \n",
    "\n",
    "In this section, we will look at some of the features of the Python language for conditional execution of your code. "
   ]
  },
  {
   "cell_type": "code",
   "execution_count": null,
   "metadata": {},
   "outputs": [],
   "source": [
    "from IPython.lib.display import YouTubeVideo\n",
    "YouTubeVideo('DZwmZ8Usvnk', width = 200, height = 150)"
   ]
  },
  {
   "cell_type": "markdown",
   "metadata": {
    "nbgrader": {
     "grade": false,
     "grade_id": "cell-820ab9eec85e7818",
     "locked": true,
     "schema_version": 3,
     "solution": false,
     "task": false
    }
   },
   "source": [
    "### The `if` statement<a class=\"anchor\" id=\"sub_section_3_2_1\"></a>\n",
    "\n",
    "We have already seen an example of the `if` statement in the previous notebook. The syntax of the if statement is as follows: \n",
    "\n",
    "```\n",
    "if expression:\n",
    "    code block to be executed if the expression is \"True\"\n",
    "```\n",
    "\n",
    "Here, `expression` is a piece of code that evaluates to either the value `True` or `False`. Here are a few simple examples:"
   ]
  },
  {
   "cell_type": "code",
   "execution_count": null,
   "metadata": {},
   "outputs": [],
   "source": [
    "if True:\n",
    "    print(\"True is true\")   "
   ]
  },
  {
   "cell_type": "code",
   "execution_count": null,
   "metadata": {},
   "outputs": [],
   "source": [
    "if True:\n",
    "    print(\"The code block\")\n",
    "    print(\"after 'if' statements\")\n",
    "    print(\"can have multiple lines.\")"
   ]
  },
  {
   "cell_type": "code",
   "execution_count": null,
   "metadata": {},
   "outputs": [],
   "source": [
    "if False:\n",
    "    print(\"False is not True (this will not be printed)\")"
   ]
  },
  {
   "cell_type": "code",
   "execution_count": null,
   "metadata": {},
   "outputs": [],
   "source": [
    "if not False:\n",
    "    print(\"not False is True\")   "
   ]
  },
  {
   "cell_type": "markdown",
   "metadata": {
    "nbgrader": {
     "grade": false,
     "grade_id": "cell-8f5002353d747ef9",
     "locked": true,
     "schema_version": 3,
     "solution": false,
     "task": false
    }
   },
   "source": [
    "**`Exercise 3.1`** \\\n",
    "Try out the following conditional statements, filling in the values specified to replace the `---` in the code cells.\n",
    "\n",
    "Check if the integer `1` is true:"
   ]
  },
  {
   "cell_type": "code",
   "execution_count": null,
   "metadata": {
    "scrolled": true
   },
   "outputs": [],
   "source": [
    "if ---:\n",
    "    print('The expression is true')"
   ]
  },
  {
   "cell_type": "markdown",
   "metadata": {
    "nbgrader": {
     "grade": false,
     "grade_id": "cell-932ea824ec7ca25c",
     "locked": true,
     "schema_version": 3,
     "solution": false,
     "task": false
    }
   },
   "source": [
    "Check if `103.51` is true:"
   ]
  },
  {
   "cell_type": "code",
   "execution_count": null,
   "metadata": {
    "scrolled": true
   },
   "outputs": [],
   "source": [
    "if ---:\n",
    "    print('The expression is true')"
   ]
  },
  {
   "cell_type": "markdown",
   "metadata": {
    "nbgrader": {
     "grade": false,
     "grade_id": "cell-b4c0600a205af8d1",
     "locked": true,
     "schema_version": 3,
     "solution": false,
     "task": false
    }
   },
   "source": [
    "Check if `-1` is true:"
   ]
  },
  {
   "cell_type": "code",
   "execution_count": null,
   "metadata": {
    "scrolled": true
   },
   "outputs": [],
   "source": [
    "if ---:\n",
    "    print('The expression is true')"
   ]
  },
  {
   "cell_type": "markdown",
   "metadata": {
    "nbgrader": {
     "grade": false,
     "grade_id": "cell-06bb622a4a2db31e",
     "locked": true,
     "schema_version": 3,
     "solution": false,
     "task": false
    }
   },
   "source": [
    "Check if condition statements work with boolean  variables:"
   ]
  },
  {
   "cell_type": "code",
   "execution_count": null,
   "metadata": {
    "scrolled": true
   },
   "outputs": [],
   "source": [
    "a = True\n",
    "if ---:\n",
    "    print('The expression is true')"
   ]
  },
  {
   "cell_type": "markdown",
   "metadata": {
    "nbgrader": {
     "grade": false,
     "grade_id": "cell-f2462c37fb4f8c16",
     "locked": true,
     "schema_version": 3,
     "solution": false,
     "task": false
    }
   },
   "source": [
    "Check if conditional statements work with  numerical variables:"
   ]
  },
  {
   "cell_type": "code",
   "execution_count": null,
   "metadata": {
    "scrolled": true
   },
   "outputs": [],
   "source": [
    "b = -73.445\n",
    "if ---:\n",
    "    print('The expression is true')"
   ]
  },
  {
   "cell_type": "markdown",
   "metadata": {
    "nbgrader": {
     "grade": false,
     "grade_id": "cell-ad422752c90b5a9e",
     "locked": true,
     "schema_version": 3,
     "solution": false,
     "task": false
    }
   },
   "source": [
    "### Comparison and test operators<a class=\"anchor\" id=\"sub_section_3_2_2\"></a>\n",
    "\n",
    "In the above, the `expression` in the `if` statements were all directly values that are either True or False (except for the example of `not False`). \n",
    "\n",
    "More generally, however, the `expression` can also include comparisons. Some examples of numerical comparisons are given here below:"
   ]
  },
  {
   "cell_type": "code",
   "execution_count": null,
   "metadata": {},
   "outputs": [],
   "source": [
    "if 5 == 5:\n",
    "    print(\"A double equal sign '==' compares the two sides of itself and gives the\")\n",
    "    print(\"result 'True' if the two sides have the same value\")"
   ]
  },
  {
   "cell_type": "code",
   "execution_count": null,
   "metadata": {},
   "outputs": [],
   "source": [
    "a = 5\n",
    "if a == 5:\n",
    "    print(\"== also works with variables\")"
   ]
  },
  {
   "cell_type": "code",
   "execution_count": null,
   "metadata": {},
   "outputs": [],
   "source": [
    "a = 5\n",
    "if 5 == a:\n",
    "    print(\"The variable can be on either side\")"
   ]
  },
  {
   "cell_type": "code",
   "execution_count": null,
   "metadata": {},
   "outputs": [],
   "source": [
    "a = 5\n",
    "b = 5\n",
    "if a == b:\n",
    "    print(\"and == also works with two variables\")"
   ]
  },
  {
   "cell_type": "code",
   "execution_count": null,
   "metadata": {},
   "outputs": [],
   "source": [
    "a = 5\n",
    "if a = 5:\n",
    "    print(\"This will give an error! A single = is an assignment operator, not a conditional test\")\n",
    "    print(\"To check if a is equal to 5, you need to use the double equal sign ==\")"
   ]
  },
  {
   "cell_type": "code",
   "execution_count": null,
   "metadata": {},
   "outputs": [],
   "source": [
    "a = 5\n",
    "if a == 6:\n",
    "    print(\"This will not be printed.\")"
   ]
  },
  {
   "cell_type": "code",
   "execution_count": null,
   "metadata": {},
   "outputs": [],
   "source": [
    "a = 5\n",
    "if 2*a == 10:\n",
    "    print(\"You can also use mathematical expressions\")    "
   ]
  },
  {
   "cell_type": "markdown",
   "metadata": {
    "nbgrader": {
     "grade": false,
     "grade_id": "cell-2c4696ee3922ab23",
     "locked": true,
     "schema_version": 3,
     "solution": false,
     "task": false
    }
   },
   "source": [
    "In addition to the `==` operator, there are also several other comparison operators such as `<`, `>`, `>=`, `<=`, `!=`"
   ]
  },
  {
   "cell_type": "markdown",
   "metadata": {
    "nbgrader": {
     "grade": false,
     "grade_id": "cell-f6b4a7e98c6672e0",
     "locked": true,
     "schema_version": 3,
     "solution": false,
     "task": false
    }
   },
   "source": [
    "**`Exercise 3.2`** \\\n",
    "Test the operators `<`, `>`, `>=`, `<=`, `!=` by trying them in an if statement with numerical values. "
   ]
  },
  {
   "cell_type": "code",
   "execution_count": null,
   "metadata": {
    "scrolled": true
   },
   "outputs": [],
   "source": [
    "if --- < ---:\n",
    "    print('The expression is true')"
   ]
  },
  {
   "cell_type": "code",
   "execution_count": null,
   "metadata": {
    "scrolled": true
   },
   "outputs": [],
   "source": [
    "if --- <= ---:\n",
    "    print('The expression is true')"
   ]
  },
  {
   "cell_type": "code",
   "execution_count": null,
   "metadata": {
    "scrolled": true
   },
   "outputs": [],
   "source": [
    "if --- > ---:\n",
    "    print('The expression is true')"
   ]
  },
  {
   "cell_type": "code",
   "execution_count": null,
   "metadata": {
    "scrolled": true
   },
   "outputs": [],
   "source": [
    "if --- >= ---:\n",
    "    print('The expression is true')"
   ]
  },
  {
   "cell_type": "code",
   "execution_count": null,
   "metadata": {
    "scrolled": true
   },
   "outputs": [],
   "source": [
    "if --- != ---:\n",
    "    print('The expression is true')"
   ]
  },
  {
   "cell_type": "markdown",
   "metadata": {
    "nbgrader": {
     "grade": false,
     "grade_id": "cell-096011724723bedd",
     "locked": true,
     "schema_version": 3,
     "solution": false,
     "task": false
    }
   },
   "source": [
    "### Logical operations<a class=\"anchor\" id=\"sub_section_3_2_3\"></a>\n",
    "\n",
    "Python also allows you to build the `expression` out of logical combinations of several conditions using the keywords `and`, `or`, and `not`. The value of these operators is as follows\n",
    "* `and` evaluates to True if both conditions are True\n",
    "* `or` evaluates to True if either condition is True\n",
    "* `not`evaluates to True if condition is not True\n",
    "\n",
    "Below are a few examples. "
   ]
  },
  {
   "cell_type": "code",
   "execution_count": null,
   "metadata": {},
   "outputs": [],
   "source": [
    "if True and False:\n",
    "    print(\"This will not be printed\")"
   ]
  },
  {
   "cell_type": "code",
   "execution_count": null,
   "metadata": {},
   "outputs": [],
   "source": [
    "if True or False:\n",
    "    print(\"This will be printed\")"
   ]
  },
  {
   "cell_type": "code",
   "execution_count": null,
   "metadata": {},
   "outputs": [],
   "source": [
    "if not 5 > 6:\n",
    "    print(\"We have already seen 'not' in previous examples. Here, we also combine with an comparison\")"
   ]
  },
  {
   "cell_type": "code",
   "execution_count": null,
   "metadata": {},
   "outputs": [],
   "source": [
    "if not 5 != 5:\n",
    "    print(\"This is a very silly example (hard to read, bad coding!)\")"
   ]
  },
  {
   "cell_type": "code",
   "execution_count": null,
   "metadata": {},
   "outputs": [],
   "source": [
    "if 5 < 6 and 10 > 9: \n",
    "    print(\"An example of combining conditional expressions with 'and'\")"
   ]
  },
  {
   "cell_type": "markdown",
   "metadata": {
    "nbgrader": {
     "grade": false,
     "grade_id": "cell-8a0f0f9e5985f291",
     "locked": true,
     "schema_version": 3,
     "solution": false,
     "task": false
    }
   },
   "source": [
    "**`Exercise 3.3`** \\\n",
    "Try out the following examples using the if statement form from above for the conditions\n",
    "\n",
    "**(a)** Check if 5 is smaller than 6, AND 10 is smaller equal than 9:"
   ]
  },
  {
   "cell_type": "code",
   "execution_count": null,
   "metadata": {
    "scrolled": true
   },
   "outputs": [],
   "source": [
    "# Your code here"
   ]
  },
  {
   "cell_type": "markdown",
   "metadata": {
    "nbgrader": {
     "grade": false,
     "grade_id": "cell-fbaf814587160898",
     "locked": true,
     "schema_version": 3,
     "solution": false,
     "task": false
    }
   },
   "source": [
    "**(b)** Do you think that the statement `not False or True` evaluates to `True` or `False`? Try it out and see:"
   ]
  },
  {
   "cell_type": "code",
   "execution_count": null,
   "metadata": {},
   "outputs": [],
   "source": [
    "# Your code here"
   ]
  },
  {
   "cell_type": "markdown",
   "metadata": {
    "nbgrader": {
     "grade": false,
     "grade_id": "cell-a09e89673e9b20d3",
     "locked": true,
     "schema_version": 3,
     "solution": false,
     "task": false
    }
   },
   "source": [
    "To understand what happened in part (b), we have to know if Python first performs the operation `False or True` or if it performs the operation `not False` first. The rules for which order Python does things, in can be found in the documentation for <a href=https://docs.python.org/3/reference/expressions.html#operator-precedence>operator precedence</a>. In the example above, we can see that the `not` operator had precedence and Python performed the `not` before it performed the `or`. \n",
    "\n",
    "What if I wanted to have Python perform the `or` first? You do this by enclosing `True  or False` in brackets:"
   ]
  },
  {
   "cell_type": "code",
   "execution_count": null,
   "metadata": {},
   "outputs": [],
   "source": [
    "if not (False or True):\n",
    "    print(\"not (False or True) is False so this will not be printed\")"
   ]
  },
  {
   "cell_type": "markdown",
   "metadata": {
    "nbgrader": {
     "grade": false,
     "grade_id": "cell-e8a75bf958008fea",
     "locked": true,
     "schema_version": 3,
     "solution": false,
     "task": false
    },
    "tags": []
   },
   "source": [
    "### The elif and else statements<a class=\"anchor\" id=\"sub_section_3_2_4\"></a>\n",
    "\n",
    "\n",
    "In Python, you can combine the `if` statement with `elif` and `else` commands in a chain in order to allow you to take actions in the case that the starting `if` statement was false. \n",
    "\n",
    "`elif` (else if) is a command that allows you to check another condition if the condition of the starting `if` is `False`. Note that if the `if` criterion is `True`, the `elif` statement will be skipped and not checked. \n",
    "\n",
    "`else` is a command that allows you to execute some code if all of the `if` and all the `elif`s are are `False`. \n",
    "\n",
    "Note that to be part of the \"chain\", all the `elif`s and the last `else` must follow directly after each other's code blocks with no other code in between. And a new `if` always starts a new chain. \n",
    "You can see how this works in the following examples:"
   ]
  },
  {
   "cell_type": "code",
   "execution_count": null,
   "metadata": {},
   "outputs": [],
   "source": [
    "a = 5\n",
    "if a < 6:\n",
    "    print(\"a is less than 6\")\n",
    "else:\n",
    "    print(\"a is not less than 6\")"
   ]
  },
  {
   "cell_type": "code",
   "execution_count": null,
   "metadata": {},
   "outputs": [],
   "source": [
    "a = 5\n",
    "if a<6: \n",
    "    print(\"the 'if' statement found that a is less than 6\")\n",
    "elif a<6:\n",
    "    print(\"this will never get printed!\")"
   ]
  },
  {
   "cell_type": "code",
   "execution_count": null,
   "metadata": {},
   "outputs": [],
   "source": [
    "a = 5\n",
    "if a<6: \n",
    "    print(\"the first if found that a is less than 6\")\n",
    "if a<6:\n",
    "    print(\"unlike elif, a second if will get executed.\")"
   ]
  },
  {
   "cell_type": "markdown",
   "metadata": {
    "nbgrader": {
     "grade": false,
     "grade_id": "cell-bcd1475b5312a9de",
     "locked": true,
     "schema_version": 3,
     "solution": false,
     "task": false
    }
   },
   "source": [
    "Since the code inside your `if` code block is just regular code, you can also add another if statement inside that code block. This creates a <a href=https://en.wikipedia.org/wiki/Nesting_(computing)>nested</a> `if` statement inside your first one:"
   ]
  },
  {
   "cell_type": "code",
   "execution_count": null,
   "metadata": {},
   "outputs": [],
   "source": [
    "# example of a nested if-statement\n",
    "a=4\n",
    "if a<6 and a>=0:\n",
    "    if a>3:\n",
    "        print(\"the value of a is 4 or 5\")\n",
    "    else:\n",
    "        print(\"the value of a is 0, 1, 2, or 3\")\n",
    "else:\n",
    "    print(\"none of these are the case\")"
   ]
  },
  {
   "cell_type": "markdown",
   "metadata": {
    "nbgrader": {
     "grade": false,
     "grade_id": "cell-ae510a3a63768c64",
     "locked": true,
     "schema_version": 3,
     "solution": false,
     "task": false
    }
   },
   "source": [
    "**`Exercise 3.4`** \\\n",
    "Practice the use of the if-elif-else statement with the following exercise by filling in the missing conditional statements. You must use all three of `if`, `elif` and `else`. You also can not use the `end` operator."
   ]
  },
  {
   "cell_type": "code",
   "execution_count": null,
   "metadata": {
    "scrolled": true
   },
   "outputs": [],
   "source": [
    "def check_number(a):\n",
    "    ...conditional statement number 1...\n",
    "        print(a, \"is less than or equal to 5\")\n",
    "    ...conditional statement number 2...\n",
    "        print(a, \"is between 5 and 10\")\n",
    "    ...conditional statement number 3...\n",
    "        print(a, \"is greater than or equal to 10\")\n",
    "        \n",
    "# Testing your function\n",
    "check_number(1)  \n",
    "check_number(5)  \n",
    "check_number(7)\n",
    "check_number(10)\n",
    "check_number(15)"
   ]
  },
  {
   "cell_type": "markdown",
   "metadata": {
    "nbgrader": {
     "grade": false,
     "grade_id": "cell-636e6a2b17097f10",
     "locked": true,
     "schema_version": 3,
     "solution": false,
     "task": false
    }
   },
   "source": [
    "## Loops<a class=\"anchor\" id=\"section_3_3\"></a>\n",
    "\n",
    "Loops are a construction in a programming language that allow you to execute the same piece of code repeatedly. \n",
    "\n",
    "In Python there are two types of loops: `while` loops and `for` loops. We will look at `while` loops first and then move on to the more common `for` loops. \n",
    "\n",
    "### The while loop<a class=\"anchor\" id=\"sub_section_3_3_1\"></a>\n",
    "\n",
    "Using the `while` command, you can specify that a block of code gets executed over and over again until a certain condition is satified:\n",
    "\n",
    "```\n",
    "while expression:\n",
    "    code...\n",
    "```\n",
    "\n",
    "As long as `expression` is true, then the code block will be executed over and over again.\n",
    "\n",
    "A simple example where we use a while loop to count to 10:"
   ]
  },
  {
   "cell_type": "code",
   "execution_count": null,
   "metadata": {},
   "outputs": [],
   "source": [
    "i = 1\n",
    "while i <= 10:\n",
    "    print(i)\n",
    "    i = i+1"
   ]
  },
  {
   "cell_type": "markdown",
   "metadata": {
    "nbgrader": {
     "grade": false,
     "grade_id": "cell-84200ae77714a458",
     "locked": true,
     "schema_version": 3,
     "solution": false,
     "task": false
    }
   },
   "source": [
    "In this example here, we use a while loop to add up all the numbers between 1 and 10:"
   ]
  },
  {
   "cell_type": "code",
   "execution_count": null,
   "metadata": {},
   "outputs": [],
   "source": [
    "i = 1\n",
    "s = 0\n",
    "\n",
    "while i<= 10:\n",
    "    s = s + i\n",
    "    i = i+1\n",
    "\n",
    "print(\"Sum is\", s)"
   ]
  },
  {
   "cell_type": "markdown",
   "metadata": {
    "nbgrader": {
     "grade": false,
     "grade_id": "cell-b97c9b714150c6b6",
     "locked": true,
     "schema_version": 3,
     "solution": false,
     "task": false
    }
   },
   "source": [
    "Note that with `while` loops, you have to be careful to make sure that your code block does something that results in your `expression` becomes false at some point, otherwise the loop will run forever. \n",
    "\n",
    "For example, when initially I wrote the above cell to calculate the sum, I forgot the `i = i+1` line of code:"
   ]
  },
  {
   "cell_type": "code",
   "execution_count": null,
   "metadata": {},
   "outputs": [],
   "source": [
    "i = 1\n",
    "s = 0\n",
    "\n",
    "while i<= 10:\n",
    "    s = s + i\n",
    "\n",
    "print(\"Sum is\", s)"
   ]
  },
  {
   "cell_type": "markdown",
   "metadata": {
    "nbgrader": {
     "grade": false,
     "grade_id": "cell-4d529b9055631e33",
     "locked": true,
     "schema_version": 3,
     "solution": false,
     "task": false
    }
   },
   "source": [
    "**This code will never finish: it will go into an infinite loop!** (You can see that it is still running because the `*` beside the `In` text never gets turned into a number.) Note that for this  will have to manually stop the kernel using the stop button in the toolbar or it will run forever..."
   ]
  },
  {
   "cell_type": "markdown",
   "metadata": {
    "nbgrader": {
     "grade": false,
     "grade_id": "cell-bb322dca784c930d",
     "locked": true,
     "schema_version": 3,
     "solution": false,
     "task": false
    }
   },
   "source": [
    "### When should I use a while loop?<a class=\"anchor\" id=\"sub_section_3_3_2\"></a>\n",
    "\n",
    "For both of the examples above, one would typically use `for` loop, which we will see in the next section. One place where `while` loops are very useful is if you do not know ahead of time how many iterations of the loop you will need. \n",
    "\n",
    "For example, let's consider the following sum:\n",
    "\n",
    "$$\n",
    "S(n) = \\sum_{i=1}^n \\sin^2(i)\n",
    "$$\n",
    "\n",
    "Let's say we want to know: for which $n$ does the sum exceed 30? We can easily check this with a `while` loop:"
   ]
  },
  {
   "cell_type": "code",
   "execution_count": null,
   "metadata": {},
   "outputs": [],
   "source": [
    "from numpy import sin\n",
    "\n",
    "i = 1\n",
    "s = 0\n",
    "\n",
    "while s<30:\n",
    "    s += sin(i)**2\n",
    "    i += 1\n",
    "\n",
    "print(\"Sum is\", s)\n",
    "print(\"i is\", i)"
   ]
  },
  {
   "cell_type": "markdown",
   "metadata": {
    "nbgrader": {
     "grade": false,
     "grade_id": "cell-98fdacbdf316c332",
     "locked": true,
     "schema_version": 3,
     "solution": false,
     "task": false
    }
   },
   "source": [
    "Note here I have also used a new operator `+=`: this is a special assignment operator that increments the variable by the specified amount. `a += 1` is equivalent to `a = a + 1` (it just saves a bit of typing, remember: programmers are lazy...). "
   ]
  },
  {
   "cell_type": "markdown",
   "metadata": {
    "nbgrader": {
     "grade": false,
     "grade_id": "cell-8419ddf039469350",
     "locked": true,
     "schema_version": 3,
     "solution": false,
     "task": false
    }
   },
   "source": [
    "**`Exercise 3.5`** \\\n",
    "Write a function to calculate the factorial of a number using a while loop. The factorial, denoted with !, is the product of all numbers up to that number, i.e. $4!=1\\cdot2\\cdot3\\cdot4$. Note that perhaps unexpectedly for you 0!=1 for which your function also have to give an answer.\n",
    "\n",
    "*If your code doesn't seem to stop running, you may need to \"debug\" your code to see where your mistake is (I did). A handy way to do this, for example, is to add a `print(i)` statement inside your while loop: it will enable you to see if the variable `i` is doing what you think it should be...*"
   ]
  },
  {
   "cell_type": "code",
   "execution_count": null,
   "metadata": {},
   "outputs": [],
   "source": [
    "def factorial(a):\n",
    "    ...\n",
    "    while(...)\n",
    "    \n",
    "print(factorial(4))\n",
    "print(factorial(0))"
   ]
  },
  {
   "cell_type": "markdown",
   "metadata": {
    "nbgrader": {
     "grade": false,
     "grade_id": "cell-8bac96ac75f3228d",
     "locked": true,
     "schema_version": 3,
     "solution": false,
     "task": false
    }
   },
   "source": [
    "### The for loop<a class=\"anchor\" id=\"sub_section_3_3_3\"></a>\n",
    "\n",
    "The `for` loop is designed to execute a piece of code a fixed number of times. The syntax of the `for` loop is:\n",
    "\n",
    "```\n",
    "for i in (a, b, c, d, ...):\n",
    "    code block\n",
    "```\n",
    "\n",
    "In each subsequent iteration of the for loop, the variable `i` is assigned next value that is supplied in the list values. \n",
    "\n",
    "We can repeat our sum calculation above using the following `for` loop:"
   ]
  },
  {
   "cell_type": "code",
   "execution_count": null,
   "metadata": {
    "scrolled": true
   },
   "outputs": [],
   "source": [
    "s = 0\n",
    "\n",
    "for i in (1, 2, 3, 4, 5, 6, 7, 8, 9, 10):\n",
    "    s += i\n",
    "    print(s)"
   ]
  },
  {
   "cell_type": "markdown",
   "metadata": {},
   "source": [
    "It would, however, be much more convenient if we would not have to type all the numbers. Our could be something like this:"
   ]
  },
  {
   "cell_type": "code",
   "execution_count": null,
   "metadata": {},
   "outputs": [],
   "source": [
    "s = 0\n",
    "i = np.arange(1,11)\n",
    "for i in i:\n",
    "    s+=i\n",
    "    print(s)"
   ]
  },
  {
   "cell_type": "markdown",
   "metadata": {},
   "source": [
    "And that brings us to the range function..."
   ]
  },
  {
   "cell_type": "markdown",
   "metadata": {
    "nbgrader": {
     "grade": false,
     "grade_id": "cell-2fa53e57cfc647d0",
     "locked": true,
     "schema_version": 3,
     "solution": false,
     "task": false
    }
   },
   "source": [
    "**`Exercise 3.6`** \\\n",
    "Calculate the sum $\\sum_{i=0}^n\\sin^2(i)$ for n=10 using a `for` loop."
   ]
  },
  {
   "cell_type": "code",
   "execution_count": null,
   "metadata": {
    "scrolled": true
   },
   "outputs": [],
   "source": [
    "# Your code here\n",
    "for...:"
   ]
  },
  {
   "cell_type": "markdown",
   "metadata": {
    "nbgrader": {
     "grade": false,
     "grade_id": "cell-58d187a8c4c8dc2e",
     "locked": true,
     "schema_version": 3,
     "solution": false,
     "task": false
    }
   },
   "source": [
    "### The range() function<a class=\"anchor\" id=\"sub_section_3_3_4\"></a>\n",
    "\n",
    "You can imagine that if we wanted to perform this sum up to 100, it would be very annoying to type out all of the numbers. For this, Python has a convenient function `range()`, than can automatically generate ranges of numbers for you!\n",
    "\n",
    "The `range` function can be used in a couple of different ways, which we will look at here. We will see, however, that `range` does some funny things, which is related to the fact that Python \"counts from zero\" *(more on this later)*. \n",
    "\n",
    "But let's look just at some concrete examples for now:\n",
    "\n",
    "### `range(N)`: Print a range of N numbers starting from zero\n",
    "\n",
    "If you give `range` only one argument, it will give a range of numbers starting from 0, and a total number of numbers determined by the argument.  \n",
    "\n",
    "As an explicit example, `range(10)` is equivalent to `(0,1,2,3,4,5,6,7,8,9)`:"
   ]
  },
  {
   "cell_type": "code",
   "execution_count": null,
   "metadata": {},
   "outputs": [],
   "source": [
    "for i in range(10):\n",
    "    print(i)"
   ]
  },
  {
   "cell_type": "markdown",
   "metadata": {
    "nbgrader": {
     "grade": false,
     "grade_id": "cell-a1e795446fc32a60",
     "locked": true,
     "schema_version": 3,
     "solution": false,
     "task": false
    }
   },
   "source": [
    "### `range(N,M)`: Print a range of numbers starting from N and ending at M-1\n",
    "\n",
    "If you give `range` two arguments `range(N,M)`, it will give a range of numbers starting from `N` and stopping at `M-1`. \n"
   ]
  },
  {
   "cell_type": "code",
   "execution_count": null,
   "metadata": {},
   "outputs": [],
   "source": [
    "for i in range(1,11):\n",
    "    print(i)"
   ]
  },
  {
   "cell_type": "markdown",
   "metadata": {
    "nbgrader": {
     "grade": false,
     "grade_id": "cell-adce08f894188b15",
     "locked": true,
     "schema_version": 3,
     "solution": false,
     "task": false
    }
   },
   "source": [
    "You might ask: why not stop at `M`? If you say the words \"range from N to M\", you would think that this range should include M? \n",
    "\n",
    "There are two reasons I can think of:\n",
    "\n",
    "1. For programmers, it is nice that `range(0,10)` and `range(10)` do the same thing\n",
    "2. It will be handy later that `range(j, j+N)` will then always give you `N` numbers in the range\n",
    "\n",
    "Maybe there are more, I'm not sure (you'd have to ask the nerds who wrote Python...). But in any case, you just need to remember that `range(N,M)` stops at `M-1`...\n"
   ]
  },
  {
   "cell_type": "markdown",
   "metadata": {
    "nbgrader": {
     "grade": false,
     "grade_id": "cell-3f4edd12e92245a9",
     "locked": true,
     "schema_version": 3,
     "solution": false,
     "task": false
    }
   },
   "source": [
    "### `range(N,M,S)`: Print a range of numbers less than M, starting from N, with steps of S\n",
    "\n",
    "This is like the last one, but now with the chance to change the steps:"
   ]
  },
  {
   "cell_type": "code",
   "execution_count": null,
   "metadata": {},
   "outputs": [],
   "source": [
    "for i in range(1,11,2):\n",
    "    print(i)"
   ]
  },
  {
   "cell_type": "markdown",
   "metadata": {
    "nbgrader": {
     "grade": false,
     "grade_id": "cell-a67520608225fbaf",
     "locked": true,
     "schema_version": 3,
     "solution": false,
     "task": false
    }
   },
   "source": [
    "Note that the `range` function works only with integers: `range(1,11,0.5)` is not allowed. (For floating point ranges, you can use the `numpy` function `arange`, more on that later...)"
   ]
  },
  {
   "cell_type": "markdown",
   "metadata": {
    "nbgrader": {
     "grade": false,
     "grade_id": "cell-95d40298b2f365ae",
     "locked": true,
     "schema_version": 3,
     "solution": false,
     "task": false
    }
   },
   "source": [
    "**`Exercise 3.7`** \\\n",
    "Calculate the sum of all numbers from 1 to 100 using a `for` loop with the `range()` function. Compare it to the famous value that Gauss calculated in class as an <a href=https://nrich.maths.org/2478>elementary school student</a>. "
   ]
  },
  {
   "cell_type": "code",
   "execution_count": null,
   "metadata": {
    "scrolled": true
   },
   "outputs": [],
   "source": [
    "# Your code here"
   ]
  },
  {
   "cell_type": "markdown",
   "metadata": {
    "nbgrader": {
     "grade": false,
     "grade_id": "cell-3cf16acbe0d81ace",
     "locked": true,
     "schema_version": 3,
     "solution": false,
     "task": false
    }
   },
   "source": [
    "### Using for loops with things other than ranges of numbers<a class=\"anchor\" id=\"sub_section_3_3_5\"></a>\n",
    "\n",
    "In the examples above, we looked at using `for` loops to iterate through a list of integers. \n",
    "\n",
    "In Python, however, `for` loops are much more flexible than only iterating over numbers: `for` loops can iterate over any <a href=https://www.programiz.com/python-programming/iterator>iteratable object</a>, including 1-D numpy arrays, which we will see in later notebooks.\n",
    "\n",
    "But, as an example, here is a piece of code that uses the `numpy` random number generator to calculate the sum of 10 random integers between 0 and 100:"
   ]
  },
  {
   "cell_type": "code",
   "execution_count": null,
   "metadata": {},
   "outputs": [],
   "source": [
    "from numpy.random import randint\n",
    "\n",
    "s = 0\n",
    "for x in randint(0,100,10):\n",
    "    print(x)\n",
    "    s += x\n",
    "\n",
    "print()\n",
    "print(\"Sum is \", s)"
   ]
  },
  {
   "cell_type": "markdown",
   "metadata": {
    "nbgrader": {
     "grade": false,
     "grade_id": "cell-55311578c51712a5",
     "locked": true,
     "schema_version": 3,
     "solution": false,
     "task": false
    }
   },
   "source": [
    "### Manually exiting or skipping a loop using break and continue<a class=\"anchor\" id=\"sub_section_3_3_6\"></a>\n",
    "\n",
    "In addition to the examples we saw above, Python offers two extra commands for controlling the flow of execution in a loop: `break` and `continue`\n",
    "\n",
    "`break` is a command you can use to force the exiting of either a `for` loop or a `while` loop. For example, you can replace the while loop above using something like this:"
   ]
  },
  {
   "cell_type": "code",
   "execution_count": null,
   "metadata": {},
   "outputs": [],
   "source": [
    "s = 0\n",
    "i = 0\n",
    "while True:\n",
    "    s += sin(i)**2\n",
    "    i += 1\n",
    "    if s > 30: \n",
    "        break\n",
    "        \n",
    "print(s)"
   ]
  },
  {
   "cell_type": "markdown",
   "metadata": {
    "nbgrader": {
     "grade": false,
     "grade_id": "cell-ebe183bb239808e9",
     "locked": true,
     "schema_version": 3,
     "solution": false,
     "task": false
    }
   },
   "source": [
    "It looks funny at first, because `while True` looks like you will loop forever! But of course, you are saved by the `break` statement. \n",
    "\n",
    "Using `break` statements can sometimes make your code more readable, particularly if you want to be able to exit the loop under different conditions, or have an exit condition trigger a certain piece of code. Here is an example of two conditions: "
   ]
  },
  {
   "cell_type": "code",
   "execution_count": null,
   "metadata": {},
   "outputs": [],
   "source": [
    "from numpy.random import randint\n",
    "\n",
    "i = 0\n",
    "found_five = False\n",
    "max_tries = 10\n",
    "\n",
    "while True:\n",
    "    i += 1\n",
    "    n = randint(0,30)\n",
    "    if n == 5:\n",
    "        found_five = True\n",
    "        break\n",
    "    if i >= max_tries: \n",
    "        break\n",
    "        \n",
    "if found_five:\n",
    "    print(\"We found a 5 after\", i, \"tries\")\n",
    "else:\n",
    "    print(\"We didn't find a 5 in the maximum number number of tries (\", max_tries, \")\")"
   ]
  },
  {
   "cell_type": "markdown",
   "metadata": {
    "nbgrader": {
     "grade": false,
     "grade_id": "cell-5c5df9248db93ce5",
     "locked": true,
     "schema_version": 3,
     "solution": false,
     "task": false
    }
   },
   "source": [
    "The statement `continue` is used if you want to skip the rest of the code in the code block and restart the next loop. This can sometimes be useful if as a way of avoiding adding an `else` statement. (Remember, programmers are lazy typers...and it can be useful if you have a big long complicated block of code...)"
   ]
  },
  {
   "cell_type": "code",
   "execution_count": null,
   "metadata": {},
   "outputs": [],
   "source": [
    "s = 0\n",
    "for i in randint(0,30,100):\n",
    "    if (i % 5) == 0:\n",
    "        continue\n",
    "    s += i\n",
    "\n",
    "print(\"The sum of +/-100 random numbers between 0 and 30 excluding those that are divisible by 5 is:\", s)\n",
    "    "
   ]
  },
  {
   "cell_type": "markdown",
   "metadata": {
    "nbgrader": {
     "grade": false,
     "grade_id": "cell-8a7bc126b9fe430a",
     "locked": true,
     "schema_version": 3,
     "solution": false,
     "task": false
    }
   },
   "source": [
    "This is probably not a great example (if you are smart you can do this with less typing), but in any case, you now know what `continue` does. "
   ]
  },
  {
   "cell_type": "markdown",
   "metadata": {
    "nbgrader": {
     "grade": false,
     "grade_id": "cell-10e1b8eed7f40b1c",
     "locked": true,
     "schema_version": 3,
     "solution": false,
     "task": false
    }
   },
   "source": [
    "**`Exercise 3.8`** \\\n",
    "Write code that creates a variable `i` with an initial value of zero. Use a while loop that increments `i` by one as long as `i` is less than one million. Have your loop stop if `i` satisfies the condition $i(i-10) = 257024$. Have your code print the `i` that satisfies this condition (if there is one). "
   ]
  },
  {
   "cell_type": "code",
   "execution_count": null,
   "metadata": {
    "scrolled": true
   },
   "outputs": [],
   "source": [
    "# Your code here"
   ]
  },
  {
   "cell_type": "markdown",
   "metadata": {},
   "source": [
    "**`Exercise 3.9`** \\\n",
    "In order to make sure that the seasons stay aligned with our calendars, leap years of 366 days have been introduced. A leap year is a year which is an integer multiple of 4 (except for years evenly divisible by 100, but not by 400),  https://en.wikipedia.org/wiki/Leap_year.   \n",
    "\n",
    "Make a function to check whether a certain year is a leap year using if/else statements to return True for leap years and False for normal years."
   ]
  },
  {
   "cell_type": "code",
   "execution_count": null,
   "metadata": {},
   "outputs": [],
   "source": [
    "def leap_year(year):\n",
    "    \n",
    "    return"
   ]
  },
  {
   "cell_type": "code",
   "execution_count": null,
   "metadata": {},
   "outputs": [],
   "source": [
    "# Check if your function works. The years 4, 2000, 2012 are examples of leap years,\n",
    "# whereas the years 2021 and 2100 are not.\n",
    "years = [1, 4, 100, 400, 2000, 2012, 2020, 2021, 2024, 2100]\n",
    "for year in years:\n",
    "    print(year, leap_year(year))"
   ]
  },
  {
   "cell_type": "code",
   "execution_count": null,
   "metadata": {},
   "outputs": [],
   "source": [
    "#autotestingscript\n",
    "import numpy as np\n",
    "test = []\n",
    "\n",
    "for year in years:\n",
    "    test.append(leap_year(year)) \n",
    "\n",
    "answercheck = [False, True, False, True, True, True, True, False, True, False]"
   ]
  },
  {
   "cell_type": "code",
   "execution_count": null,
   "metadata": {},
   "outputs": [],
   "source": [
    "#auto check\n",
    "np.testing.assert_array_equal(test, answercheck, 'error', True)"
   ]
  },
  {
   "cell_type": "markdown",
   "metadata": {},
   "source": [
    "**`Exercise 3.10`** \\\n",
    "Sometimes we want to find the peaks in our data. One way to do this is to go through the array and check for every value if the values left and right are smaller.\n",
    "\n",
    "Write some code that finds the peak(s) of the array and that prints the index and value of all peaks."
   ]
  },
  {
   "cell_type": "code",
   "execution_count": null,
   "metadata": {},
   "outputs": [],
   "source": [
    "y = np.array([2, 2, 3, 4, 5, 4, 3, 8, 6, 4])    # dummy data\n",
    "\n",
    "# your code here\n",
    "\n"
   ]
  },
  {
   "cell_type": "markdown",
   "metadata": {},
   "source": [
    "**`Exercise 3.11`** \\\n",
    "To keep your computer safe from others, it is probably password protected. Usually you have a few tries before the password entry is disabled for some time.\n",
    "\n",
    "<img src='https://i.ytimg.com/vi/qBRBwLKx0ao/maxresdefault.jpg' width=500></img>\n",
    "\n",
    "You can enter your password three times before a timeout is given. If the timeout (sleep) is over, you have three other tries. The timeout time in seconds is given by $T = 60 + i^3$, where $i$ is the number of tries. \n",
    "\n",
    "Write the code. 3pt"
   ]
  },
  {
   "cell_type": "code",
   "execution_count": null,
   "metadata": {},
   "outputs": [],
   "source": [
    "#your code here\n",
    "\n",
    "password = 'practicum123'\n",
    "tries = 0 \n",
    "\n"
   ]
  },
  {
   "cell_type": "markdown",
   "metadata": {
    "nbgrader": {
     "grade": false,
     "grade_id": "cell-38744ad3ab4ca87f",
     "locked": true,
     "schema_version": 3,
     "solution": false,
     "task": false
    }
   },
   "source": [
    "### Solutions to exercises<a class=\"anchor\" id=\"section_3_4\"></a>"
   ]
  },
  {
   "cell_type": "markdown",
   "metadata": {
    "nbgrader": {
     "grade": false,
     "grade_id": "cell-6f337f4358a682a0",
     "locked": true,
     "schema_version": 3,
     "solution": false,
     "task": false
    }
   },
   "source": [
    "**Exercise 3.1** "
   ]
  },
  {
   "cell_type": "code",
   "execution_count": null,
   "metadata": {
    "nbgrader": {
     "grade": false,
     "grade_id": "cell-5b0313b8e8598466",
     "locked": true,
     "schema_version": 3,
     "solution": false,
     "task": false
    },
    "scrolled": true
   },
   "outputs": [],
   "source": [
    "if 1:\n",
    "    print('The expression is true')"
   ]
  },
  {
   "cell_type": "code",
   "execution_count": null,
   "metadata": {
    "nbgrader": {
     "grade": false,
     "grade_id": "cell-1e3641fb9a779721",
     "locked": true,
     "schema_version": 3,
     "solution": false,
     "task": false
    }
   },
   "outputs": [],
   "source": [
    "if 103.51:\n",
    "    print('The expression is true')"
   ]
  },
  {
   "cell_type": "code",
   "execution_count": null,
   "metadata": {
    "nbgrader": {
     "grade": false,
     "grade_id": "cell-4ceedbf1a3c4d051",
     "locked": true,
     "schema_version": 3,
     "solution": false,
     "task": false
    },
    "scrolled": true
   },
   "outputs": [],
   "source": [
    "if -1:\n",
    "    print('The expression is true')"
   ]
  },
  {
   "cell_type": "code",
   "execution_count": null,
   "metadata": {
    "nbgrader": {
     "grade": false,
     "grade_id": "cell-cc4df8371d0432b9",
     "locked": true,
     "schema_version": 3,
     "solution": false,
     "task": false
    },
    "scrolled": true
   },
   "outputs": [],
   "source": [
    "a = True\n",
    "if a:\n",
    "    print('The expression is true')"
   ]
  },
  {
   "cell_type": "code",
   "execution_count": null,
   "metadata": {
    "nbgrader": {
     "grade": false,
     "grade_id": "cell-123947c9011d4062",
     "locked": true,
     "schema_version": 3,
     "solution": false,
     "task": false
    },
    "scrolled": true
   },
   "outputs": [],
   "source": [
    "b = -73.445\n",
    "if b:\n",
    "    print('The expression is true')"
   ]
  },
  {
   "cell_type": "markdown",
   "metadata": {
    "nbgrader": {
     "grade": false,
     "grade_id": "cell-9e3b271232e2220d",
     "locked": true,
     "schema_version": 3,
     "solution": false,
     "task": false
    }
   },
   "source": [
    "**Exercise 3.2**"
   ]
  },
  {
   "cell_type": "code",
   "execution_count": null,
   "metadata": {
    "nbgrader": {
     "grade": false,
     "grade_id": "cell-a6ac2b6dc510f1aa",
     "locked": true,
     "schema_version": 3,
     "solution": false,
     "task": false
    },
    "scrolled": true
   },
   "outputs": [],
   "source": [
    "if 5 < 5.1:\n",
    "    print('The expression is true')"
   ]
  },
  {
   "cell_type": "code",
   "execution_count": null,
   "metadata": {
    "nbgrader": {
     "grade": false,
     "grade_id": "cell-51027497694978b9",
     "locked": true,
     "schema_version": 3,
     "solution": false,
     "task": false
    },
    "scrolled": true
   },
   "outputs": [],
   "source": [
    "if 5 <= 5:\n",
    "    print('The expression is true')"
   ]
  },
  {
   "cell_type": "code",
   "execution_count": null,
   "metadata": {
    "nbgrader": {
     "grade": false,
     "grade_id": "cell-1e264535ded80168",
     "locked": true,
     "schema_version": 3,
     "solution": false,
     "task": false
    },
    "scrolled": true
   },
   "outputs": [],
   "source": [
    "if 5.1 > 5.1:\n",
    "    print('The expression is true')"
   ]
  },
  {
   "cell_type": "code",
   "execution_count": null,
   "metadata": {
    "nbgrader": {
     "grade": false,
     "grade_id": "cell-ed3481fa5c1ce2aa",
     "locked": true,
     "schema_version": 3,
     "solution": false,
     "task": false
    },
    "scrolled": true
   },
   "outputs": [],
   "source": [
    "if 5.1 >= 5.1:\n",
    "    print('The expression is true')"
   ]
  },
  {
   "cell_type": "code",
   "execution_count": null,
   "metadata": {
    "nbgrader": {
     "grade": false,
     "grade_id": "cell-a8414c045994a401",
     "locked": true,
     "schema_version": 3,
     "solution": false,
     "task": false
    },
    "scrolled": true
   },
   "outputs": [],
   "source": [
    "# \"!=\" is \"not-equals\"\n",
    "if 5 != 5.1:\n",
    "    print('The expression is true')"
   ]
  },
  {
   "cell_type": "markdown",
   "metadata": {
    "nbgrader": {
     "grade": false,
     "grade_id": "cell-4271a640dc4e16fa",
     "locked": true,
     "schema_version": 3,
     "solution": false,
     "task": false
    }
   },
   "source": [
    "**Exercise 3.3** **(a)** "
   ]
  },
  {
   "cell_type": "code",
   "execution_count": null,
   "metadata": {
    "nbgrader": {
     "grade": false,
     "grade_id": "cell-40cec335e293301f",
     "locked": true,
     "schema_version": 3,
     "solution": false,
     "task": false
    },
    "scrolled": true
   },
   "outputs": [],
   "source": [
    "if 5 < 6 and 10 <= 9:\n",
    "    print(\"i don't think this is true\")"
   ]
  },
  {
   "cell_type": "markdown",
   "metadata": {
    "nbgrader": {
     "grade": false,
     "grade_id": "cell-b47fd4e7bdeeb7ed",
     "locked": true,
     "schema_version": 3,
     "solution": false,
     "task": false
    }
   },
   "source": [
    "**(b)** "
   ]
  },
  {
   "cell_type": "code",
   "execution_count": null,
   "metadata": {
    "nbgrader": {
     "grade": false,
     "grade_id": "cell-7b133c4093f3de42",
     "locked": true,
     "schema_version": 3,
     "solution": false,
     "task": false
    }
   },
   "outputs": [],
   "source": [
    "if not False or True:\n",
    "    print(\"it is true?\")\n",
    "else:\n",
    "    print(\"it wasn't true?\")"
   ]
  },
  {
   "cell_type": "markdown",
   "metadata": {
    "nbgrader": {
     "grade": false,
     "grade_id": "cell-2b945c67ff612ec2",
     "locked": true,
     "schema_version": 3,
     "solution": false,
     "task": false
    }
   },
   "source": [
    "**Exercise 3.4** "
   ]
  },
  {
   "cell_type": "code",
   "execution_count": null,
   "metadata": {
    "nbgrader": {
     "grade": false,
     "grade_id": "cell-36ba5da4827cc9c8",
     "locked": true,
     "schema_version": 3,
     "solution": false,
     "task": false
    },
    "scrolled": true
   },
   "outputs": [],
   "source": [
    "def check_number(a):\n",
    "    if a <= 5:\n",
    "        print(a, \"is less than or equal to 5\")\n",
    "    elif a < 10: \n",
    "        # note we don't need to test if it's greater than 5 since the first if already took \n",
    "        # care of that for us\n",
    "        print(a, \"is between 5 and 10\")\n",
    "    else:\n",
    "        print(a, \"is greater than or equal to 10\")\n",
    "        \n",
    "# Testing your function\n",
    "check_number(1)  \n",
    "check_number(5)  \n",
    "check_number(7)\n",
    "check_number(10)\n",
    "check_number(15)"
   ]
  },
  {
   "cell_type": "markdown",
   "metadata": {
    "nbgrader": {
     "grade": false,
     "grade_id": "cell-a03f32b890804dc7",
     "locked": true,
     "schema_version": 3,
     "solution": false,
     "task": false
    }
   },
   "source": [
    "**Exercise 3.5** "
   ]
  },
  {
   "cell_type": "code",
   "execution_count": null,
   "metadata": {
    "nbgrader": {
     "grade": false,
     "grade_id": "cell-6ad76460fb6dee8a",
     "locked": true,
     "schema_version": 3,
     "solution": false,
     "task": false
    }
   },
   "outputs": [],
   "source": [
    "def factorial(a):\n",
    "    # f = our factorial result\n",
    "    f = 1\n",
    "    i = 2\n",
    "    while(i<=a):\n",
    "        f *= i\n",
    "        i += 1\n",
    "    return f\n",
    "    \n",
    "print(factorial(4))\n",
    "print(factorial(2))"
   ]
  },
  {
   "cell_type": "markdown",
   "metadata": {
    "nbgrader": {
     "grade": false,
     "grade_id": "cell-b7807a055420b17b",
     "locked": true,
     "schema_version": 3,
     "solution": false,
     "task": false
    }
   },
   "source": [
    "**Exercise 3.6** "
   ]
  },
  {
   "cell_type": "code",
   "execution_count": null,
   "metadata": {
    "nbgrader": {
     "grade": false,
     "grade_id": "cell-1536f4bee510c9ac",
     "locked": true,
     "schema_version": 3,
     "solution": false,
     "task": false
    },
    "scrolled": true
   },
   "outputs": [],
   "source": [
    "# Your code here\n",
    "\n",
    "s = 0\n",
    "for i in range(11):\n",
    "    s += np.sin(i)**2\n",
    "\n",
    "print(\"Sum is\", s)"
   ]
  },
  {
   "cell_type": "markdown",
   "metadata": {
    "nbgrader": {
     "grade": false,
     "grade_id": "cell-361135ad0db80c76",
     "locked": true,
     "schema_version": 3,
     "solution": false,
     "task": false
    }
   },
   "source": [
    "**Exercise 3.7** "
   ]
  },
  {
   "cell_type": "code",
   "execution_count": null,
   "metadata": {
    "nbgrader": {
     "grade": false,
     "grade_id": "cell-4dc583cec91521e9",
     "locked": true,
     "schema_version": 3,
     "solution": false,
     "task": false
    },
    "scrolled": true
   },
   "outputs": [],
   "source": [
    "s = 0\n",
    "\n",
    "# Note the range should end at 101!\n",
    "# It should also start at 1: range(101) will also execute \n",
    "# the loop with i=0 (which won't matter here...)\n",
    "for i in range(1,101):\n",
    "    s += i\n",
    "\n",
    "print(s)"
   ]
  },
  {
   "cell_type": "markdown",
   "metadata": {
    "nbgrader": {
     "grade": false,
     "grade_id": "cell-21f178bba5a2f9ad",
     "locked": true,
     "schema_version": 3,
     "solution": false,
     "task": false
    }
   },
   "source": [
    "**Exercise 3.8** "
   ]
  },
  {
   "cell_type": "code",
   "execution_count": null,
   "metadata": {
    "nbgrader": {
     "grade": false,
     "grade_id": "cell-188d5c2433fb8aa3",
     "locked": true,
     "schema_version": 3,
     "solution": false,
     "task": false
    }
   },
   "outputs": [],
   "source": [
    "# Solution\n",
    "\n",
    "maxnum=1e6\n",
    "i=0\n",
    "while i <= maxnum:\n",
    "    if i*(i-10)==257024:\n",
    "        break\n",
    "    i+=1\n",
    "    \n",
    "print(i)"
   ]
  },
  {
   "cell_type": "markdown",
   "metadata": {},
   "source": [
    "**Exercise 3.9**"
   ]
  },
  {
   "cell_type": "code",
   "execution_count": null,
   "metadata": {},
   "outputs": [],
   "source": [
    "def leap_year(year):\n",
    "    if year % 4 == 0:\n",
    "        if year % 100 == 0:\n",
    "            if year % 400 == 0:\n",
    "                return True\n",
    "            return False\n",
    "        return True\n",
    "    return False"
   ]
  },
  {
   "cell_type": "markdown",
   "metadata": {},
   "source": [
    "**Exercise 3.10**"
   ]
  },
  {
   "cell_type": "code",
   "execution_count": null,
   "metadata": {},
   "outputs": [],
   "source": [
    "## Solution\n",
    "import numpy as np\n",
    "y = np.array([2, 2, 3, 4, 5, 4, 3, 8, 6, 4]) \n",
    "\n",
    "for i in range(1, len(y)-1):\n",
    "    if y[i-1] < y[i] and y[i+1] < y[i]:\n",
    "        print('index:', i, '\\t value:', y[i])                                  \n"
   ]
  },
  {
   "cell_type": "markdown",
   "metadata": {},
   "source": [
    "**Exercise 3.11**"
   ]
  },
  {
   "cell_type": "code",
   "execution_count": null,
   "metadata": {},
   "outputs": [],
   "source": [
    "password = 'practicum123'\n",
    "tries = 0 \n",
    "\n",
    "from time import sleep\n",
    "\n",
    "while True:\n",
    "    input_pw = input('What is the password?')\n",
    "    if input_pw == password:\n",
    "        break\n",
    "    if (tries+1)%3==0:\n",
    "        sleep(60+tries**3)\n",
    "    tries += 1\n"
   ]
  },
  {
   "cell_type": "code",
   "execution_count": null,
   "metadata": {},
   "outputs": [],
   "source": []
  }
 ],
 "metadata": {
  "celltoolbar": "Create Assignment",
  "jupytext": {
   "formats": "ipynb,md"
  },
  "kernelspec": {
   "display_name": "Python 3 (ipykernel)",
   "language": "python",
   "name": "python3"
  },
  "language_info": {
   "codemirror_mode": {
    "name": "ipython",
    "version": 3
   },
   "file_extension": ".py",
   "mimetype": "text/x-python",
   "name": "python",
   "nbconvert_exporter": "python",
   "pygments_lexer": "ipython3",
   "version": "3.9.16"
  },
  "toc": {
   "base_numbering": "3",
   "nav_menu": {},
   "number_sections": true,
   "sideBar": true,
   "skip_h1_title": false,
   "title_cell": "Table of Contents",
   "title_sidebar": "Contents",
   "toc_cell": false,
   "toc_position": {},
   "toc_section_display": true,
   "toc_window_display": true
  }
 },
 "nbformat": 4,
 "nbformat_minor": 4
}
