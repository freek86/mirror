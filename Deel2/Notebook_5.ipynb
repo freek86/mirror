{
 "cells": [
  {
   "cell_type": "markdown",
   "metadata": {},
   "source": [
    "# NB5: Data in Python: Loading, Plotting, and Fitting\n",
    "\n",
    "* [Learning objectives](#section_5_0)    \n",
    "* [Data management](#section_5_1)\n",
    "    * [Loading data with Numpy](#sub_section_5_1_1)\n",
    "    * [Saving data with Numpy](#sub_section_5_1_2)\n",
    "* [Plotting data and functions with Matplotlib](#section_5_2)\n",
    "* [Fitting](#section_5_3)\n",
    "    * [Fitting by hand](#sub_section_5_3_1)         \n",
    "    * [Least squares fitting](#sub_section_5_3_2)\n",
    "    * [Test array and some ideas for plotting](#sub_section_5_3_3)\n",
    "    * [Initial guesses](#sub_section_5_3_4)\n",
    "    * [Residuals](#sub_section_5_3_5)\n",
    "    * [Uncertainty in the parameters](#sub_section_5_3_6)\n",
    "* [Solutions to Exercises](#section_5_4)\n"
   ]
  },
  {
   "cell_type": "markdown",
   "metadata": {},
   "source": [
    "# <span style=\"color:red\">Pre/Post-test</span><a class=\"anchor\" id=\"section_1_0\"></a>\n",
    "This test is for testing your current skills in Python. You can use it in two ways:\n",
    "* pre-test: to test your skills beforehand. If you are already proficient in Python, and can do this test within approximately 15 minutes, you can scan through the notebook rather than carfefully reading each sentence.\n",
    "* post-test: test your skills after Notebook 5. Check whether you learned enough.\n",
    "\n",
    "## Doing an analysis\n",
    "Eric so far survived the first weeks of his employment. As he showed some true skills, he is asked to help in building an RC-filter. First, some initial data needs to be analysed. He receives a datafile called 'pretestdata.csv'. Once he retrieved (loaded) this data, he plots it first. He then uses the theoretical formula that should describe the pattern in the data: $\\frac{U_C}{U_{max}}=\\frac{1}{\\sqrt{1+(wRC)^2}}$, where $w$ is the angular frequency given by $w=2\\pi f$. $RC$ can be considered a constant which can be found using least-square fitting.\n",
    "- Retrieve the data and plot these using a log-scale on the x-axis. Think about the scientific rules for making plots.\n",
    "- Find the best estimate of RC and plot the fitfunction on top of the dataset.\n",
    "- Carry out a residual analysis."
   ]
  },
  {
   "cell_type": "code",
   "execution_count": null,
   "metadata": {},
   "outputs": [],
   "source": [
    "# Your code"
   ]
  },
  {
   "cell_type": "markdown",
   "metadata": {
    "nbgrader": {
     "grade": false,
     "grade_id": "cell-e43ee4f9ec42e73b",
     "locked": true,
     "schema_version": 3,
     "solution": false,
     "task": false
    }
   },
   "source": [
    "# <span style=\"color:red\">Learning objectives</span><a class=\"anchor\" id=\"section_5_0\"></a>\n",
    "\n",
    "In this notebook, we will explore how to load and save datafiles in Python using Numpy, how to plot data and functions with a plotting library called Matplotlib, and how to fit a model to data and analyse the results.\n",
    "\n",
    "After completing this notebook, you are able to:\n",
    "* load data from ASCII text files\n",
    "* save data to ASCII text files\n",
    "* generate plots of data and functions\n",
    "* fit a model to data using \"fitting by hand\"\n",
    "* use `curve_fit` to perform a least-squares fit of a model to a dataset\n",
    "* analyse the residuals to determine the quality of the fit\n",
    "* calculate the statistical error in the parameters of a least-squares fit\n"
   ]
  },
  {
   "cell_type": "code",
   "execution_count": null,
   "metadata": {},
   "outputs": [],
   "source": [
    "import numpy as np\n",
    "import matplotlib.pyplot as plt\n",
    "from IPython.lib.display import YouTubeVideo"
   ]
  },
  {
   "cell_type": "markdown",
   "metadata": {
    "nbgrader": {
     "grade": false,
     "grade_id": "cell-b336a15e1594fec1",
     "locked": true,
     "schema_version": 3,
     "solution": false,
     "task": false
    }
   },
   "source": [
    "## <span style=\"color:red\">5.1 Data management</span><a class=\"anchor\" id=\"section_5_1\"></a>\n",
    "\n",
    "Here, we will explore some functions provided by numpy for loading data from files into python, and for saving data from python to files. We consider it good practices that you save a raw data (CSV) file somewhere on your computer and then copy this file for further processing. If any mistake has been made, you can always rely on your stored raw data file.\n",
    "\n",
    "During the experiments that you encounter in this course you can write your measurements in an excel file, and store this file as a CSV file. When processing the data, you will load the data in your Jupyter Notebook file.\n",
    "\n",
    "### <span style=\"color:red\">5.1.1 Loading data with Numpy</span><a class=\"anchor\" id=\"sub_section_5_1_1\"></a>\n",
    "\n",
    "Until now, we have seen how to generate data inside python, for example by assigning values to arrays, or, for example, by using functions like `np.zeros()`, `np.linspace()`, and `np.random.random()`.\n",
    "\n",
    "However, what if we want to use Python to analyze data from an experiment? How do we get the data into python? \n",
    "\n",
    "Sometimes, we might have just a small number of data points that we have measured by hand and wrote down on a piece of paper: say a list of measured fall times for different heights. In this case, you can just \"load\" the data by defining Python arrays that contain your measured values:\n",
    "\n",
    "```\n",
    "# Drop heights in meters\n",
    "d = np.array([0, 0.5, 1.0, 1.5 , 2.0,  2.5]) \n",
    "# Measured times\n",
    "t = np.array([0, 0.2, 0.3, 0.44, 0.6, 0.89])\n",
    "```\n",
    "\n",
    "In a computer controlled experiment, though, you may have, for example, a data file of voltage measured as a function of time from an acquisition card or oscilloscope which may have hundreds, thousands, or even millions of data points. Moreover, if you manually take measurements it is often more convenient to do so using excel. You can then save your data and load them using Python. If done so, your raw data is always safely stored.\n",
    "\n",
    "If we want to look at the datafile, to get an idea of what is inside, whether there are comments included and so on, we can open the file and read it."
   ]
  },
  {
   "cell_type": "code",
   "execution_count": null,
   "metadata": {},
   "outputs": [],
   "source": [
    "with open(\"v_vs_time.dat\") as file:\n",
    "    for i in range(5):\n",
    "        print(file.readline())"
   ]
  },
  {
   "cell_type": "markdown",
   "metadata": {
    "nbgrader": {
     "grade": false,
     "grade_id": "cell-f79c995cb536082e",
     "locked": true,
     "schema_version": 3,
     "solution": false,
     "task": false
    }
   },
   "source": [
    "We can also read (and print) the entire file using `print(file.read())`. \n",
    "\n",
    "Typically (if you're lucky), the measurement software will save its data in an (<a href=https://en.wikipedia.org/wiki/ASCII>ASCII</a>) text file. (Or at least there will be software for converting the data to an ASCII text file...) For example, let's think about an experiment where we measure a voltage as a function of time. In this case, the data will often be recorded in two columns of numbers in the text file, separated by a space. The first number would represent the time of the measurement, say in seconds, and the second the measured voltage, in volts:\n",
    "\n",
    "`File: v_vs_time.dat:`\n",
    "```\n",
    "0.000000000000000000e+00 -4.881968419624156397e-01\n",
    "1.001001001001000992e-02 6.574038838172248100e-01\n",
    "2.002002002002001985e-02 -4.868767180890223312e-01\n",
    "3.003003003003002977e-02 -8.581352351530058264e-01\n",
    "4.004004004004003969e-02 1.605962930324425164e+00\n",
    "5.005005005005004615e-02 -5.458119271515118331e-01\n",
    "6.006006006006005954e-02 -1.910121935716198927e+00\n",
    "7.007007007007007293e-02 -8.213606665035044774e-01\n",
    "8.008008008008007939e-02 -1.724982388182002335e+00\n",
    "...\n",
    "```\n",
    "\n",
    "This is an example of a file format called <a href=https://en.wikipedia.org/wiki/Delimiter-separated_values>Delimiter-separated values (DSV)</a>. In the example above, the \"delimiter\" (ie the thing that separates the values) is a space. \n",
    "\n",
    "Another common delimiter is a comma `,` or `;`, often named a `.csv` file for \"comma separated value\" file. This is a common \"export\" format from spreadsheets like excel. A third common value is a \"tab separated value\" file (often saved with a `.tsv` file extension, also available as an export option from some spreadsheets), which separates the values in the file be tab characters (which in Python strings show up as special character `\\t`, a bit like the newline `\\n`).\n",
    "\n",
    "For reading in CSV files, Python has a very simple routine `np.loadtxt()`:\n",
    "\n",
    "https://docs.scipy.org/doc/numpy/reference/generated/numpy.loadtxt.html\n",
    "\n",
    "It can handle any type of **delimiter**: the default is any whitespace (tab or space), but this can also be configured using the `delimiter=` keyword argument. It also does not care about the file extension: for example, it is fine if a CSV file does not have a `.csv` extension (it doesn't even have to have an extension!). A typical convention is to name the files containing ASCII text data with an extension `.dat`.\n",
    "\n",
    "Let's give it a try using the file `v_vs_time.dat`: "
   ]
  },
  {
   "cell_type": "code",
   "execution_count": null,
   "metadata": {
    "ExecuteTime": {
     "end_time": "2020-08-21T15:09:52.031601Z",
     "start_time": "2020-08-21T15:09:51.560698Z"
    }
   },
   "outputs": [],
   "source": [
    "data = np.loadtxt(\"v_vs_time.dat\")"
   ]
  },
  {
   "cell_type": "markdown",
   "metadata": {
    "nbgrader": {
     "grade": false,
     "grade_id": "cell-3aa9fb298e9a108a",
     "locked": true,
     "schema_version": 3,
     "solution": false,
     "task": false
    }
   },
   "source": [
    "If the first line would have been the names of the variables, we could have skipped the first row (see again the <a href =\"https://docs.scipy.org/doc/numpy/reference/generated/numpy.loadtxt.html\">documentation</a>).\n",
    "Here we have assigned the return value of `np.loadtxt` to a variable `data`, which is a numpy array. But what exactly is our variable `data`? We can find out more by looking at the shape of the returned `data` array:"
   ]
  },
  {
   "cell_type": "code",
   "execution_count": null,
   "metadata": {},
   "outputs": [],
   "source": [
    "data.shape"
   ]
  },
  {
   "cell_type": "markdown",
   "metadata": {
    "nbgrader": {
     "grade": false,
     "grade_id": "cell-5bace50c3249b281",
     "locked": true,
     "schema_version": 3,
     "solution": false,
     "task": false
    }
   },
   "source": [
    "When `np.loadtxt()` loads a file, it will return a 2D numpy array with of shape `(n,m)`, where `n` is the number lines in the file and `m` is the number of columns (here, we have 1000 points and 2 columns). \n",
    "\n",
    "As I mentioned above, the first column represents the time that the measurement was taken, and the second column represents the measured voltage in volts. We will typically want to extract these into two vectors `t` and `v`, which we can do using slicing:"
   ]
  },
  {
   "cell_type": "code",
   "execution_count": null,
   "metadata": {},
   "outputs": [],
   "source": [
    "t = data[:,0]\n",
    "v = data[:,1]"
   ]
  },
  {
   "cell_type": "markdown",
   "metadata": {
    "nbgrader": {
     "grade": false,
     "grade_id": "cell-c63f7111a8fd6835",
     "locked": true,
     "schema_version": 3,
     "solution": false,
     "task": false
    }
   },
   "source": [
    "We can look at the first 10 points and see that we have successfully loaded the data from the file! "
   ]
  },
  {
   "cell_type": "code",
   "execution_count": null,
   "metadata": {},
   "outputs": [],
   "source": [
    "print('t = ', t[0:10])\n",
    "print('v = ', v[0:10])"
   ]
  },
  {
   "cell_type": "markdown",
   "metadata": {
    "nbgrader": {
     "grade": false,
     "grade_id": "cell-9a33fae5f634b3cb",
     "locked": true,
     "schema_version": 3,
     "solution": false,
     "task": false
    }
   },
   "source": [
    "We can check that the data is correct by opening the data file itself from the Jupyter file browser: Jupyter can also directly load and edit text files. (Another way of loading hand-recorded data into Python is just to use Jupyter to create an ASCII `.dat` file yourself.)"
   ]
  },
  {
   "cell_type": "markdown",
   "metadata": {
    "nbgrader": {
     "grade": false,
     "grade_id": "cell-def50c91314bd96b",
     "locked": true,
     "schema_version": 3,
     "solution": false,
     "task": false
    }
   },
   "source": [
    "**`Exercise 5.1`** \\\n",
    "Load the data from the file `exercise_data.dat`. The first column represents a measurement time in seconds, and the second represents a measurement voltage in volts. How many points are in the dataset? \n",
    "\n",
    "*(Important: make sure that you use different variable names than t and v for the data you load, since we will continue to use the data we loaded in the example code in the sections below!)*"
   ]
  },
  {
   "cell_type": "code",
   "execution_count": null,
   "metadata": {
    "scrolled": true
   },
   "outputs": [],
   "source": [
    "#your code here to load the data \n"
   ]
  },
  {
   "cell_type": "markdown",
   "metadata": {
    "nbgrader": {
     "grade": false,
     "grade_id": "cell-0793eb4c8f85801b",
     "locked": true,
     "schema_version": 3,
     "solution": false,
     "task": false
    }
   },
   "source": [
    "### <span style=\"color:red\">5.1.2 Saving data with Numpy</span><a class=\"anchor\" id=\"sub_section_5_1_2\"></a>\n",
    "\n",
    "We can also save data using a numpy routine `np.savetxt()` (https://numpy.org/doc/stable/reference/generated/numpy.savetxt.html). To do this, we have to \"pack\" the data back into a numpy array of the correct shape. \n",
    "\n",
    "Let's take a look at an example where we calculate the square of the measured voltage and save this back into a new file:"
   ]
  },
  {
   "cell_type": "code",
   "execution_count": null,
   "metadata": {},
   "outputs": [],
   "source": [
    "v_squared = v**2"
   ]
  },
  {
   "cell_type": "markdown",
   "metadata": {
    "nbgrader": {
     "grade": false,
     "grade_id": "cell-fb66afd2a19403c5",
     "locked": true,
     "schema_version": 3,
     "solution": false,
     "task": false
    }
   },
   "source": [
    "To \"pack\" them together into a matrix like the one returned by `np.loadtxt()`, we can first create a 2D matrix of the correct size and then use slicing with an assignment operator `=` to give the columns the correct values:"
   ]
  },
  {
   "cell_type": "code",
   "execution_count": null,
   "metadata": {},
   "outputs": [],
   "source": [
    "# Create empty array\n",
    "to_save = np.zeros([len(v), 2])\n",
    "\n",
    "# Fill columns with data\n",
    "to_save[:,0] = t\n",
    "to_save[:,1] = v_squared"
   ]
  },
  {
   "cell_type": "markdown",
   "metadata": {
    "nbgrader": {
     "grade": false,
     "grade_id": "cell-7823cff287a7691f",
     "locked": true,
     "schema_version": 3,
     "solution": false,
     "task": false
    }
   },
   "source": [
    "Now we are ready to use `np.savetxt()` in the current folder: "
   ]
  },
  {
   "cell_type": "code",
   "execution_count": null,
   "metadata": {},
   "outputs": [],
   "source": [
    "np.savetxt(\"vsquare_vs_time.dat\", to_save)"
   ]
  },
  {
   "cell_type": "markdown",
   "metadata": {
    "nbgrader": {
     "grade": false,
     "grade_id": "cell-5c513d113d2f3e3f",
     "locked": true,
     "schema_version": 3,
     "solution": false,
     "task": false
    }
   },
   "source": [
    "If you go back to your workspace in a new tab, you will can see that this file has been created, and if you click on it, you can see what is inside it. "
   ]
  },
  {
   "cell_type": "markdown",
   "metadata": {},
   "source": [
    "**`Exercise 5.2`** \\\n",
    "Make a testarray $x$ running from 1 to 100 with an interval of 0.1. Write a function $y=3.05*x+0.95$. Use this function to make a new array for $y$. Save your data in the file 'testfile.csv' using ; as a delimiter (NOTE: delimiters are sometimes \";\" and sometimes \",\" Always inspect the datafile first.). If all went well, when running the subsequent cell your data are loaded and shown in a plot."
   ]
  },
  {
   "cell_type": "code",
   "execution_count": null,
   "metadata": {},
   "outputs": [],
   "source": [
    "x = \n",
    "\n",
    "def function\n",
    "\n",
    "y = \n"
   ]
  },
  {
   "cell_type": "code",
   "execution_count": null,
   "metadata": {},
   "outputs": [],
   "source": [
    "imported_data = np.loadtxt('testfile.csv', delimiter=';')\n",
    "\n",
    "plt.figure()\n",
    "plt.plot(imported_data[:,0],imported_data[:,1],'k.',markersize='1')\n",
    "plt.xlabel('$x$')\n",
    "plt.ylabel('$y$')\n",
    "plt.xlim(0,100)\n",
    "plt.show()"
   ]
  },
  {
   "cell_type": "markdown",
   "metadata": {
    "nbgrader": {
     "grade": false,
     "grade_id": "cell-9fc0eeb9a99e75d9",
     "locked": true,
     "schema_version": 3,
     "solution": false,
     "task": false
    }
   },
   "source": [
    "## <span style=\"color:red\">5.2 Plotting data and functions with Matplotlib</span><a class=\"anchor\" id=\"section_5_2\"></a>\n",
    "\n",
    "We loaded a dataset but haven't given it a proper look yet. You already learned how to plot data, but here we give it a more thorough look. We will use our previous data loaded, and a fake dataset."
   ]
  },
  {
   "cell_type": "code",
   "execution_count": null,
   "metadata": {},
   "outputs": [],
   "source": [
    "# A \"fake\" dataset to illustrate plotting\n",
    "v_fake = np.random.normal(10,0.5,1000)\n",
    "\n",
    "plt.figure()\n",
    "plt.plot(t,v,'k.',markersize=1)\n",
    "plt.plot(t,v_fake,'r+')\n",
    "plt.xlabel(\"Time (s)\")\n",
    "plt.ylabel(\"Voltage (V)\")\n",
    "plt.show()"
   ]
  },
  {
   "cell_type": "markdown",
   "metadata": {
    "nbgrader": {
     "grade": false,
     "grade_id": "cell-1d9eda6969d17554",
     "locked": true,
     "schema_version": 3,
     "solution": false,
     "task": false
    }
   },
   "source": [
    "Matplotlib will automatically change the color of the second dataset (you can also control them manually, see the <a href= https://matplotlib.org/3.1.1/api/_as_gen/matplotlib.pyplot.plot.html>documentation</a>). But it can be hard to tell which one is which, and for this reason, it can be useful to add a legend to your plot. Furthermore, if you want a really big figure, you can also adjust the figure size:"
   ]
  },
  {
   "cell_type": "code",
   "execution_count": null,
   "metadata": {},
   "outputs": [],
   "source": [
    "plt.figure(figsize=(12,8))\n",
    "plt.plot(t,v, 'k.',markersize=1, label=\"Voltage 1\")\n",
    "plt.plot(t,v_fake, 'r+',markersize=1, label=\"Voltage 2\")\n",
    "plt.xlabel(\"Time (s)\")\n",
    "plt.ylabel(\"Voltage (V)\")\n",
    "plt.legend()\n",
    "plt.show()"
   ]
  },
  {
   "cell_type": "markdown",
   "metadata": {
    "nbgrader": {
     "grade": false,
     "grade_id": "cell-1f4975d1b1b7c3a2",
     "locked": true,
     "schema_version": 3,
     "solution": false,
     "task": false
    }
   },
   "source": [
    "**`Exercise 5.3`** \\\n",
    "Make a plot of the data you loaded from exercise 5.1. "
   ]
  },
  {
   "cell_type": "code",
   "execution_count": null,
   "metadata": {
    "scrolled": true
   },
   "outputs": [],
   "source": [
    "#code to plot the data you loaded in exercise 5.1\n"
   ]
  },
  {
   "cell_type": "markdown",
   "metadata": {
    "nbgrader": {
     "grade": false,
     "grade_id": "cell-93d67850489cb7df",
     "locked": true,
     "schema_version": 3,
     "solution": false,
     "task": false
    }
   },
   "source": [
    "**`Exercise 5.4`** \\\n",
    "As you may have noticed the data from `exercise_data.dat` does not seem like straight line, but instead looks like a power law function $V = at^p$ with power $p$. \n",
    "\n",
    "One way to test for such power law relations is to make a plot with an x-axis that is not $t$ but instead $t^p$: if you get the correct $p$, then the  data plotted will form a straight line. \n",
    "\n",
    "Write code to plot $V$ against $t^p$ and then put in different guesses at the power $p$ to see if you can see what the power is. "
   ]
  },
  {
   "cell_type": "code",
   "execution_count": null,
   "metadata": {},
   "outputs": [],
   "source": [
    "#code to plot data from exercise 5.1 with t^p on the x-axis\n"
   ]
  },
  {
   "cell_type": "markdown",
   "metadata": {
    "nbgrader": {
     "grade": false,
     "grade_id": "cell-076d0c966917fff0",
     "locked": true,
     "schema_version": 3,
     "solution": false,
     "task": false
    }
   },
   "source": [
    "Also handy to know: you can use [LaTeX](https://en.wikipedia.org/wiki/LaTeX) commands to add mathematical symbols and equations to your plot.\n",
    "\n",
    "Important: when you do this, it is a good idea to add an `r` before the quote of your string (see below) to prevent the common backslash `\\` commands of latex as things like tab characters or newline characters. "
   ]
  },
  {
   "cell_type": "code",
   "execution_count": null,
   "metadata": {},
   "outputs": [],
   "source": [
    "plt.figure(figsize=(6,3))\n",
    "plt.plot(t,v, 'k.',markersize=1, label=\"Voltage 1\")\n",
    "plt.plot(t,v_fake, 'r+',markersize=1, label=\"Voltage 2\")\n",
    "plt.xlabel(r\"Time $\\tau$ (s)\") # random greek symbols\n",
    "plt.ylabel(r\"Voltage $V_\\alpha$ (V)\") # subscripts\n",
    "plt.legend()\n",
    "plt.show()"
   ]
  },
  {
   "cell_type": "markdown",
   "metadata": {
    "nbgrader": {
     "grade": false,
     "grade_id": "cell-a1372d935bab78f8",
     "locked": true,
     "schema_version": 3,
     "solution": false,
     "task": false
    }
   },
   "source": [
    "As explained earlier on, we can plot functions as well. It is useful to plot both your data and a function describing that data. For example, with our voltage data above, if we want to plot a straight line function over over the data: "
   ]
  },
  {
   "cell_type": "code",
   "execution_count": null,
   "metadata": {},
   "outputs": [],
   "source": [
    "line = 2*t\n",
    "plt.figure()\n",
    "plt.plot(t,v, '.')\n",
    "plt.plot(t,line, '--', lw=4)\n",
    "plt.xlabel(\"Time (s)\")\n",
    "plt.ylabel(\"Voltage (V)\")\n",
    "plt.show()"
   ]
  },
  {
   "cell_type": "markdown",
   "metadata": {
    "nbgrader": {
     "grade": false,
     "grade_id": "cell-ecd3b09678cacd45",
     "locked": true,
     "schema_version": 3,
     "solution": false,
     "task": false
    }
   },
   "source": [
    "Here, we also used the `linewidth` parameter (which can be shorted to `lw` to save typing) to make the line a bit fatter so it is easier to see, and used the '--' plot format specifier to make it a dashed line. "
   ]
  },
  {
   "cell_type": "markdown",
   "metadata": {
    "nbgrader": {
     "grade": false,
     "grade_id": "cell-46dd5bd28954941b",
     "locked": true,
     "schema_version": 3,
     "solution": false,
     "task": false
    }
   },
   "source": [
    "**`Exercise 5.5`** \\\n",
    "Another way to get the exponent is to plot $\\log(V)$ vs $\\log(t)$ (a log-log plot). If the data really follows a power law relation, then this should give a straight line with a slope determined by the exponent. Try this, and then add a straight line $\\log(V) = p * \\log(t)$ to the plot. Play around with the value of $p$ until the line has the same slope as the data. For this plot, use solid filled circle for the data and a solid line for the theory.\n",
    "\n",
    "*(Do you get a warning message? Why?)*"
   ]
  },
  {
   "cell_type": "code",
   "execution_count": null,
   "metadata": {
    "scrolled": true
   },
   "outputs": [],
   "source": [
    "#your code\n"
   ]
  },
  {
   "cell_type": "markdown",
   "metadata": {
    "nbgrader": {
     "grade": false,
     "grade_id": "cell-8599a077e778277a",
     "locked": true,
     "schema_version": 3,
     "solution": false,
     "task": false
    }
   },
   "source": [
    "## <span style=\"color:red\">5.3 Fitting</span><a class=\"anchor\" id=\"section_5_3\"></a>\n",
    "\n",
    "In experimental physics, one of our primary goals is to try to figure out if our observed experimental measurements match the theoretical predictions that we can make from mathematical models. If it does, then we are happy and we have confirmed that our mathematical model is at least one way to explain our data! (We typically say that the experimental observations are consistent with the predictions of theory.) If that all works, we try to take this a step further, and extract values for our theoretical parameters from our data.\n",
    "\n",
    "In this section of the notebook, we will discuss how to fit a mathematical model to your experimental data and extract both the best-fit parameters of your model for the given dataset, and also the estimated (statistical) uncertainties in these fitted parameters.\n",
    "\n"
   ]
  },
  {
   "cell_type": "code",
   "execution_count": null,
   "metadata": {},
   "outputs": [],
   "source": [
    "YouTubeVideo('wbQ7ra725ys')"
   ]
  },
  {
   "cell_type": "markdown",
   "metadata": {},
   "source": [
    "### <span style=\"color:red\">5.3.1 Fitting by hand</span><a class=\"anchor\" id=\"sub_section_5_3_1\"></a>\n",
    "\n",
    "A first important step in any fitting is to make some plots of your experimental model and find out if there are parameter regimes where it can at least come close to the data. By \"fitting by hand\", you can already get an idea whether your model is a good description of your data, and approximately what the values of the model parameters are.\n",
    "\n",
    "In the last plot above, we saw an example of plotting a function on top of some data. If we look at the data, even without looking at the plotted function, we can see that our experimental data of voltage vs. time seems to be a straight line. This suggests that we can model the data with a linear function:\n",
    "\n",
    "$$\n",
    "V(t) = at + b\n",
    "$$\n",
    "\n",
    "where $a$ is some parameter with the units of V/s representing the slope of the line, and $b$ (in V) is a parameter describing the value of the voltage at $t=0$.\n",
    "\n",
    "The fact that the the line $V = 2t$ (the orange dashed line) seems to pass through the middle of our blue data already suggests that for our data (the blue points), $a = 2$ V/s and $b = 0$ V seems like pretty good parameters for our model to describe the data.\n",
    "\n",
    "We can also see that `a = 1.7` and `b = 1.7` are also OK (they go through a lot of the data points), but are probably not as good:"
   ]
  },
  {
   "cell_type": "code",
   "execution_count": null,
   "metadata": {},
   "outputs": [],
   "source": [
    "line1 = 1.7*t+1.7\n",
    "line2 = 2*t\n",
    "\n",
    "plt.figure()\n",
    "\n",
    "plt.plot(t,v, '.',c='k', ms=2)\n",
    "plt.plot(t,line1, '--', c='b', lw=4, label=\"y=1.7$x$+1.7\")\n",
    "plt.plot(t,line2, '--', c='r', lw=4, label=\"y=2.0+0.0\")\n",
    "\n",
    "plt.xlabel(\"Time (s)\")\n",
    "plt.ylabel(\"Voltage (V)\")\n",
    "\n",
    "plt.legend()\n",
    "plt.show()"
   ]
  },
  {
   "cell_type": "markdown",
   "metadata": {
    "nbgrader": {
     "grade": false,
     "grade_id": "cell-3e41d51a52bac6e2",
     "locked": true,
     "schema_version": 3,
     "solution": false,
     "task": false
    }
   },
   "source": [
    "Now that we have a 'good' estimate of our parameters, how can we find the **best** parameters (`a` and `b` in this case) for our data? And how do I know how accurately my parameters fit the data? \n",
    "\n",
    "For that, we can use a procedure called <a href=https://en.wikipedia.org/wiki/Least_squares>least squares fitting</a>. In the remaining part of this notebook, you will learn more about least squares fitting and how it works - the video below is a very short introduction to the least squares method. Here, we will look at how to code it in Python, how to use it to get the best fit parameters of a model for you data, and how to find out what the <a href=https://en.wikipedia.org/wiki/Errors_and_residuals>statistical error</a> is on the parameters of your model given the data you are using for the fit. "
   ]
  },
  {
   "cell_type": "code",
   "execution_count": null,
   "metadata": {},
   "outputs": [],
   "source": [
    "YouTubeVideo('S0ptaAXNxBU', width = 600, height = 450)"
   ]
  },
  {
   "cell_type": "markdown",
   "metadata": {
    "nbgrader": {
     "grade": false,
     "grade_id": "cell-b352eec645cffa6c",
     "locked": true,
     "schema_version": 3,
     "solution": false,
     "task": false
    }
   },
   "source": [
    "**`Exercise 5.6`** \\\n",
    "Using the data you loaded in exercise 5.1, try fitting the function $V = at^p$ \"by hand\" to the data by manually adjusting $a$ and $p$ and replotting the function until you think you have the best fit. What are the values of $a$ and $p$ that you find? "
   ]
  },
  {
   "cell_type": "code",
   "execution_count": null,
   "metadata": {
    "scrolled": true
   },
   "outputs": [],
   "source": [
    "#code to fit data \"by hand\" to a power law\n"
   ]
  },
  {
   "cell_type": "markdown",
   "metadata": {
    "nbgrader": {
     "grade": false,
     "grade_id": "cell-347f6460e621fd38",
     "locked": true,
     "schema_version": 3,
     "solution": false,
     "task": false
    }
   },
   "source": [
    "### <span style=\"color:red\">5.3.2 Least squares fitting</span><a class=\"anchor\" id=\"sub_section_5_3_2\"></a>\n",
    "\n",
    "To have Python automatically find the best parameters for fitting your data with a given function, you can use the `curve_fit()` routine from the `scipy` (scientific Python) package:\n",
    "\n",
    "https://docs.scipy.org/doc/scipy/reference/generated/scipy.optimize.curve_fit.html\n",
    "\n",
    "Since we will use only the `curve_fit` routine, we will import it on its own:"
   ]
  },
  {
   "cell_type": "code",
   "execution_count": null,
   "metadata": {},
   "outputs": [],
   "source": [
    "from scipy.optimize import curve_fit"
   ]
  },
  {
   "cell_type": "markdown",
   "metadata": {
    "nbgrader": {
     "grade": false,
     "grade_id": "cell-8cd0ccee9956231a",
     "locked": true,
     "schema_version": 3,
     "solution": false,
     "task": false
    }
   },
   "source": [
    "To use curve fit, we first need to create a Python function that returns the mathematical function that we want to fit. Our function is:\n",
    "\n",
    "$$\n",
    "f(x) = ax + b\n",
    "$$\n",
    "\n",
    "It has one variable, $x$, and two parameters, $a$ and $b$. For using `curve_fit`, we will need to make a Python function that takes three arguments: the first is the variable `x` (for the above, it will be time), and the other two arguments are the fit parameters `a` and `b`, and which should return the predicted voltage:"
   ]
  },
  {
   "cell_type": "code",
   "execution_count": null,
   "metadata": {},
   "outputs": [],
   "source": [
    "def function_fit(x,a,b):\n",
    "    return a*x+b"
   ]
  },
  {
   "cell_type": "markdown",
   "metadata": {
    "nbgrader": {
     "grade": false,
     "grade_id": "cell-318b791dd38d2a55",
     "locked": true,
     "schema_version": 3,
     "solution": false,
     "task": false
    }
   },
   "source": [
    "In the simplest case (and it will always work when you are fitting a stright line), you can just then directly send the function and your x and y data and it will do the fit for you:"
   ]
  },
  {
   "cell_type": "code",
   "execution_count": null,
   "metadata": {},
   "outputs": [],
   "source": [
    "values, covariance = curve_fit(function_fit, t, v)"
   ]
  },
  {
   "cell_type": "markdown",
   "metadata": {
    "nbgrader": {
     "grade": false,
     "grade_id": "cell-2ae5e791a8ee0965",
     "locked": true,
     "schema_version": 3,
     "solution": false,
     "task": false
    }
   },
   "source": [
    "Tada! `curve_fit` actually returns two things. The first is an array containing the optimal fit values:"
   ]
  },
  {
   "cell_type": "code",
   "execution_count": null,
   "metadata": {},
   "outputs": [],
   "source": [
    "print(values)"
   ]
  },
  {
   "cell_type": "markdown",
   "metadata": {
    "nbgrader": {
     "grade": false,
     "grade_id": "cell-1a0084e54c4a46fa",
     "locked": true,
     "schema_version": 3,
     "solution": false,
     "task": false
    }
   },
   "source": [
    "The first one corresponds to the first parameter of the function and the second to the second: in our case, `a` and `b`:"
   ]
  },
  {
   "cell_type": "code",
   "execution_count": null,
   "metadata": {},
   "outputs": [],
   "source": [
    "a_fit = values[0]\n",
    "b_fit = values[1]\n",
    "print(a_fit)\n",
    "print(b_fit)"
   ]
  },
  {
   "cell_type": "markdown",
   "metadata": {
    "nbgrader": {
     "grade": false,
     "grade_id": "cell-dd958e133a172472",
     "locked": true,
     "schema_version": 3,
     "solution": false,
     "task": false
    }
   },
   "source": [
    "We can actually see that our fit by hand is a pretty good approximation of the values Python returns using the least squares method. We can now check what the fit looks like. To do so, it is useful to create a testarray for x first, and calculate our corresponding values for y. We will see why this is a good idea in a minute."
   ]
  },
  {
   "cell_type": "code",
   "execution_count": null,
   "metadata": {},
   "outputs": [],
   "source": [
    "x_test = np.linspace(0.8*min(t),1.2*max(t), 1000)\n",
    "y_fit = function_fit(x_test,*values)\n",
    "\n",
    "plt.figure()\n",
    "\n",
    "plt.plot(t, v, '.', c='k', ms=2)\n",
    "plt.plot(x_test, y_fit, 'r--', lw=2, label=\"Fit (y = %.2f $x$ + %.2f)\" % (a_fit, b_fit))\n",
    "\n",
    "plt.xlabel(\"Time (s)\")\n",
    "plt.ylabel(\"Voltage (V)\")\n",
    "plt.legend()\n",
    "\n",
    "plt.xlim(0,10)\n",
    "plt.ylim(min(v),max(v))\n",
    "plt.show()"
   ]
  },
  {
   "cell_type": "markdown",
   "metadata": {
    "nbgrader": {
     "grade": false,
     "grade_id": "cell-efff4d4d08c4ef9a",
     "locked": true,
     "schema_version": 3,
     "solution": false,
     "task": false
    }
   },
   "source": [
    "Cool! Also, it turns out that the best statistical fit of the slope to our data is not exactly 2 but slightly higher (about 2.0148)\n",
    "\n",
    "In addition, sometimes in measurements, we also have error bars on the each of the individual black data points in the plot, and sometimes some data points could have more error than others. In these cases, the fitting routine can take these individual error bars into account when performing this fit: we will see more about this later in the course."
   ]
  },
  {
   "cell_type": "markdown",
   "metadata": {
    "nbgrader": {
     "grade": false,
     "grade_id": "cell-728ba4c89dc5d7e0",
     "locked": true,
     "schema_version": 3,
     "solution": false,
     "task": false
    }
   },
   "source": [
    "**`Exercise 5.7`** \\\n",
    "Perform a least squares fit to of the data from exercise 5.1 to the function $V = at^p$. Make  a plot of the function with the values of $p$ and $a$ from the fit on top of the data. How close are the fitted values to your attempt at fitting by hand? "
   ]
  },
  {
   "cell_type": "code",
   "execution_count": null,
   "metadata": {
    "scrolled": true
   },
   "outputs": [],
   "source": [
    "#code that performs a least square fit to the exercise data\n"
   ]
  },
  {
   "cell_type": "markdown",
   "metadata": {},
   "source": [
    "### <span style=\"color:red\">5.3.3 Test array and some ideas for plotting</span><a class=\"anchor\" id=\"sub_section_5_3_3\"></a>\n",
    "\n",
    "It was mentioned that it is a good idea to make a testfunction before plotting our fitline. Why is that so? If our fitfunction is not a straight line, and we have not that many measurements, the dots are connected. That is, our fit is not continous. Below we illustrate this with the red dotted lines, making sharp turns at each new datapoint. The blue dotted line shows our test variable with many more datapoints.\n",
    "Moreover, we can improve our plot by including values for the xlim, where our fitfunction nicely starts at the borders of the graph. To better compare our graphs, we make use of subplots. It requires some adjustments, but the manual is very helpful: https://matplotlib.org/stable/gallery/subplots_axes_and_figures/subplots_demo.html"
   ]
  },
  {
   "cell_type": "code",
   "execution_count": null,
   "metadata": {},
   "outputs": [],
   "source": [
    "x = np.arange(1,9,2)\n",
    "y = 0.25*x**2             \n",
    "\n",
    "#fitting our data\n",
    "def fitfunction3(x,a,b):\n",
    "    return a*x**b\n",
    "\n",
    "val, cov = curve_fit(fitfunction3,x,y)\n",
    "\n",
    "#making a test array for our fit\n",
    "x_test = np.linspace(-0.2,1.2*max(x))\n",
    "y_fit = fitfunction3(x_test,*val)\n",
    "\n",
    "\n",
    "#plotting of the data and fit in a subplt\n",
    "fig, (ax1, ax2) = plt.subplots(1, 2)\n",
    "\n",
    "ax1.plot(x,fitfunction3(x,*val),'r--',label='fit')\n",
    "ax1.plot(x,y,'k.',label='measurements')\n",
    "ax1.set(xlabel='$x$', ylabel='$y$')\n",
    "ax1.legend()\n",
    "ax1.set_xlim([0, 7.5])\n",
    "ax1.set_ylim([0,15])\n",
    "\n",
    "\n",
    "ax2.plot(x_test,y_fit,'b--',label='fit')\n",
    "ax2.plot(x,y,'k.',label='measurements')\n",
    "ax2.set(xlabel='$x$', ylabel='$y$')\n",
    "ax2.legend()\n",
    "ax2.set_xlim([0, 7.5])\n",
    "ax2.set_ylim([0,15])\n",
    "\n",
    "fig.subplots_adjust(wspace=0.4)\n",
    "plt.show()"
   ]
  },
  {
   "cell_type": "markdown",
   "metadata": {
    "nbgrader": {
     "grade": false,
     "grade_id": "cell-bd69b024d2582da3",
     "locked": true,
     "schema_version": 3,
     "solution": false,
     "task": false
    }
   },
   "source": [
    "### <span style=\"color:red\">5.3.4 Initial guesses</span><a class=\"anchor\" id=\"sub_section_5_3_4\"></a>\n",
    "\n",
    "The curve fit routine has the option to provide initial guesses on your parameters using a keyword argument `p0`:"
   ]
  },
  {
   "cell_type": "code",
   "execution_count": null,
   "metadata": {},
   "outputs": [],
   "source": [
    "initial_guesses = (2.5,1)\n",
    "values2, covariance2 = curve_fit(function_fit, t, v, p0 = initial_guesses)\n",
    "print(values2)\n",
    "print(values)"
   ]
  },
  {
   "cell_type": "markdown",
   "metadata": {
    "nbgrader": {
     "grade": false,
     "grade_id": "cell-da995318402bc3d7",
     "locked": true,
     "schema_version": 3,
     "solution": false,
     "task": false
    }
   },
   "source": [
    "In this case it (nearly) did not make a difference: and in fact, for fitting a linear function, least squares fitting will converge to the same set of values, no matter what initial guess you provide. \n",
    "\n",
    "This is NOT true for functions $f(x)$ that are not linear in $x$. In really bad cases, the parameter values that `curve_fit` finds can even be highly sensitive to the initial conditions. For this reason, it is always a good idea, and sometimes absolutely necessary, to first do some \"fitting by hand\", and then ideally provide these initial conditions to the `curve_fit` routine. \n",
    "\n",
    "And even if you do not provide hand-tuned initial guesses (which you may not if you are automatically fitting a huge number of datasets), it is important that you always make a plot of the fitted curves that you find on top of the data just to make sure nothing goes wrong. "
   ]
  },
  {
   "cell_type": "markdown",
   "metadata": {
    "tags": []
   },
   "source": [
    "### <span style=\"color:red\">5.3.5 Residuals</span><a class=\"anchor\" id=\"sub_section_5_3_5\"></a>\n",
    "\n",
    "But how good is our fit? That is difficult to say by only lookig at the plot above. But we can investigate our residuals: $R(x) = D(x)- F(x)$ where $R(x)$ are our residuals as function of $x$,  $D(x)$ are our data (measurements) as function of $x$, and $F(x)$ our fitfunction at $x$. If our functionfit perfectly matches our data, our residues are 0. But as our data often includes some noise, we expect that our residuals are normally distributed (https://en.wikipedia.org/wiki/Normal_distribution). "
   ]
  },
  {
   "cell_type": "code",
   "execution_count": null,
   "metadata": {},
   "outputs": [],
   "source": [
    "R = function_fit(t,*values)-v\n",
    "\n",
    "plt.figure()\n",
    "\n",
    "plt.plot(t, R, '.', c='k', ms=2)\n",
    "\n",
    "plt.xlabel(\"Time (s)\")\n",
    "plt.ylabel(r\"$\\Delta$ Voltage (V)\")\n",
    "\n",
    "plt.show()\n",
    "\n",
    "plt.figure()\n",
    "plt.hist(R,bins=40,density=True)\n",
    "plt.xlabel(r\"$\\Delta$ Voltage (V)\")\n",
    "plt.ylabel('pdf')\n",
    "plt.show()"
   ]
  },
  {
   "cell_type": "markdown",
   "metadata": {},
   "source": [
    "Well... it sure looks likes a normal distribution. But can we visualize it even better? We can try to fit using a normal distrubtion. The details about the normal distrubution will be discussed in Notebook 6. The <a href=\"https://docs.scipy.org/doc/scipy/reference/generated/scipy.stats.norm.html\">scipy norm library</a> is here of good use!"
   ]
  },
  {
   "cell_type": "code",
   "execution_count": null,
   "metadata": {},
   "outputs": [],
   "source": [
    "from scipy.stats import norm\n",
    "\n",
    "x_test = np.linspace(np.min(R),np.max(R),1000)\n",
    "distribution = norm.pdf(x_test,np.mean(R),np.std(R))\n",
    "\n",
    "\n",
    "plt.figure()\n",
    "plt.hist(R,bins=40,density=True)\n",
    "plt.plot(x_test,distribution,'r')\n",
    "plt.xlabel(r\"$\\Delta$ Voltage (V)\")\n",
    "plt.ylabel('pdf')\n",
    "plt.show()"
   ]
  },
  {
   "cell_type": "markdown",
   "metadata": {},
   "source": [
    "What did we do here? We created a test dataset and for each of these values we calculated the return value from the pdf, using the average and standard deviation calculated from our residuals. We then plotted this function on top of our histogram. We can see that the distribution of the residuals can be described reasonably well with a normal distribution!"
   ]
  },
  {
   "cell_type": "code",
   "execution_count": null,
   "metadata": {},
   "outputs": [],
   "source": []
  },
  {
   "cell_type": "markdown",
   "metadata": {
    "nbgrader": {
     "grade": false,
     "grade_id": "cell-7019fff9dd353955",
     "locked": true,
     "schema_version": 3,
     "solution": false,
     "task": false
    }
   },
   "source": [
    "### <span style=\"color:red\">5.3.6 Uncertainty in the parameters</span><a class=\"anchor\" id=\"sub_section_5_3_6\"></a>\n",
    "\n",
    "\n",
    "We found above that the best statistical fit to our data was not our initial estimate of `a = 2`, but actually more like `a = 2.0148`. But the line with `a = 2` also looked pretty good, right? How much better is the fit with `a = 2.0148`? \n",
    "\n",
    "To find this out, we can use the other variable that `curve_fit` returned: the <a href=https://en.wikipedia.org/wiki/Covariance_matrix>covariance matrix</a>. With two parameters, the covariance matrix is a 2x2 array:  "
   ]
  },
  {
   "cell_type": "code",
   "execution_count": null,
   "metadata": {},
   "outputs": [],
   "source": [
    "values, covariance = curve_fit(function_fit, t, v)\n",
    "print(covariance)"
   ]
  },
  {
   "cell_type": "markdown",
   "metadata": {
    "nbgrader": {
     "grade": false,
     "grade_id": "cell-f0ffe772615a4907",
     "locked": true,
     "schema_version": 3,
     "solution": false,
     "task": false
    }
   },
   "source": [
    "The most important two for us are the diagonal elements: the first diagonal element tells us the square of the <a href=https://en.wikipedia.org/wiki/Standard_error>standard error</a> $\\sigma_a$ of parameter `a` and the second diagonal element gives us the square of $\\sigma_b$:"
   ]
  },
  {
   "cell_type": "code",
   "execution_count": null,
   "metadata": {},
   "outputs": [],
   "source": [
    "a_err = np.sqrt(covariance[0,0])\n",
    "b_err = np.sqrt(covariance[1,1])\n",
    "print(a_err)\n",
    "print(b_err)"
   ]
  },
  {
   "cell_type": "markdown",
   "metadata": {},
   "source": [
    "Or more quickly:"
   ]
  },
  {
   "cell_type": "code",
   "execution_count": null,
   "metadata": {},
   "outputs": [],
   "source": [
    "a_rr, b_err = np.sqrt(np.diag(covariance))\n",
    "print(a_rr,b_err)"
   ]
  },
  {
   "cell_type": "markdown",
   "metadata": {
    "nbgrader": {
     "grade": false,
     "grade_id": "cell-5d97036c0a1d934d",
     "locked": true,
     "schema_version": 3,
     "solution": false,
     "task": false
    }
   },
   "source": [
    "(The standard error $\\sigma_a$ is also sometimes also written as $\\Delta a$,  and is also sometimes called the parameter \"uncertainty\" instead of the parameter \"error\"). \n",
    "\n",
    "We can now quote the full values of the parameters from our fit, including uncertainties:"
   ]
  },
  {
   "cell_type": "code",
   "execution_count": null,
   "metadata": {},
   "outputs": [],
   "source": [
    "print(\"The value of a is %.2f +/- %.2f V\" % (a_fit, a_err))\n",
    "print(\"The value of b is %.2f +/- %.2f V\" % (b_fit, b_err))"
   ]
  },
  {
   "cell_type": "markdown",
   "metadata": {
    "nbgrader": {
     "grade": false,
     "grade_id": "cell-b4032ef7311840a6",
     "locked": true,
     "schema_version": 3,
     "solution": false,
     "task": false
    }
   },
   "source": [
    "Reminder: as earlier shown, we use a placeholder format `%.2f` designating that we want to print as float with two decimals. There are a \n",
    "<a href=https://www.python-course.eu/python3_formatted_output.php>lot</a> of other ways to format your string.\n",
    "\n",
    "Note that typically when you quote an uncertainty, you should pick only one significant digit. And also, when you quote the value of a parameter, you should also quote it with the same number of decimal places as your error. \n",
    "\n",
    "So in this case, I quote the value of `a` as 2.015, and not its \"exact\" value of 2.0148415283012246. Why? The reason is that doesn't make sense to quote more digits on the value of `a` than a number of digits corresponding to the size of the statistical error, and so physicists and scientists truncate the accuracy of the numbers they report to a level comparable to the error. "
   ]
  },
  {
   "cell_type": "markdown",
   "metadata": {},
   "source": [
    "**`Exercise 5.8`** \\\n",
    "Below we have made a fake dataset for you. The parameters are known to you. But still, it is your task to 'deconstruct' the dataset and find the parameters as if these were unknown to you."
   ]
  },
  {
   "cell_type": "code",
   "execution_count": null,
   "metadata": {},
   "outputs": [],
   "source": [
    "x_meas = np.arange(0,10.1,0.3)\n",
    "y_meas = 0.2345*x_meas**2 + 3.045*x_meas + np.random.normal(0,1.5,len(x_meas))\n",
    "\n",
    "#your code here                                   \n"
   ]
  },
  {
   "cell_type": "markdown",
   "metadata": {
    "nbgrader": {
     "grade": false,
     "grade_id": "cell-d3c840f7897a22f3",
     "locked": true,
     "schema_version": 3,
     "solution": false,
     "task": false
    }
   },
   "source": [
    "**`Exercise 5.8*`** \\\n",
    "Calculate the errors on the fit parameters from your fit in exercise 5.5. Was your estimate of $p$ from exercise 5.4 within the statistical error margins from you fit? Were the values for $a$ and $p$ you found from \"fitting by hand\" within the statistical error margins? "
   ]
  },
  {
   "cell_type": "code",
   "execution_count": null,
   "metadata": {
    "scrolled": true
   },
   "outputs": [],
   "source": [
    "#code to calculate the parameter uncertainties (errors) and check if your earlier\n",
    "#estimates agree with the least-square-fit values \n",
    "#to within the error margins of the fit\n"
   ]
  },
  {
   "cell_type": "code",
   "execution_count": null,
   "metadata": {},
   "outputs": [],
   "source": [
    "YouTubeVideo('fyUT-D-NU8I')"
   ]
  },
  {
   "cell_type": "markdown",
   "metadata": {},
   "source": [
    "**`Exercise 5.9`** \\\n",
    "In 'dataset.csv' we have made you a dataset where you have to find the formula describing it. Find the parameters and their associated uncertainties. Don't forget to analyse your residuals to see whether you found the proper formula.\n",
    "\n",
    "Note! This excercise consumes a lot of your time...\n"
   ]
  },
  {
   "cell_type": "code",
   "execution_count": null,
   "metadata": {},
   "outputs": [],
   "source": []
  },
  {
   "cell_type": "markdown",
   "metadata": {
    "nbgrader": {
     "grade": false,
     "grade_id": "cell-7fe0b0fc78334b72",
     "locked": true,
     "schema_version": 3,
     "solution": false,
     "task": false
    }
   },
   "source": [
    "## <span style=\"color:red\">5.4 Solutions to exercises</span><a class=\"anchor\" id=\"section_5_4\"></a>\n",
    "\n"
   ]
  },
  {
   "cell_type": "markdown",
   "metadata": {
    "nbgrader": {
     "grade": false,
     "grade_id": "cell-2c686ad63c7718cb",
     "locked": true,
     "schema_version": 3,
     "solution": false,
     "task": false
    }
   },
   "source": [
    "**Exercise 5.1:** "
   ]
  },
  {
   "cell_type": "code",
   "execution_count": null,
   "metadata": {
    "nbgrader": {
     "grade": false,
     "grade_id": "cell-e723ee13a367dc4a",
     "locked": true,
     "schema_version": 3,
     "solution": false,
     "task": false
    },
    "scrolled": true
   },
   "outputs": [],
   "source": [
    "# You can also use the option \"unpack=True\" to have loadtxt send back all columns separately\n",
    "t2,v2 = np.loadtxt(\"exercise_data.dat\", unpack=True)\n",
    "\n",
    "print(\"Loaded\", len(v2), \"points\")"
   ]
  },
  {
   "cell_type": "markdown",
   "metadata": {},
   "source": [
    "**Exercise 5.2:**"
   ]
  },
  {
   "cell_type": "code",
   "execution_count": null,
   "metadata": {},
   "outputs": [],
   "source": [
    "x = np.arange(1,100.1,0.1)\n",
    "\n",
    "def function(x):\n",
    "    return 3.05*x+0.95\n",
    "\n",
    "y = function(x)\n",
    "data = np.zeros([len(x),2])\n",
    "data[:,0] = x\n",
    "data[:,1] = y\n",
    "np.savetxt('testfile.csv',data,delimiter=';')\n"
   ]
  },
  {
   "cell_type": "markdown",
   "metadata": {
    "nbgrader": {
     "grade": false,
     "grade_id": "cell-f248bda277afb213",
     "locked": true,
     "schema_version": 3,
     "solution": false,
     "task": false
    }
   },
   "source": [
    "**Exercise 5.3:**"
   ]
  },
  {
   "cell_type": "code",
   "execution_count": null,
   "metadata": {
    "nbgrader": {
     "grade": false,
     "grade_id": "cell-6698a19848ed5646",
     "locked": true,
     "schema_version": 3,
     "solution": false,
     "task": false
    },
    "scrolled": true
   },
   "outputs": [],
   "source": [
    "plt.plot(t2,v2)\n",
    "# ALL PLOTS MUST HAVE LABELS WITH UNITS!!!!\n",
    "plt.xlabel(\"$t$ (s)\")\n",
    "plt.ylabel(\"$v$ (V)\")\n",
    "plt.show()"
   ]
  },
  {
   "cell_type": "markdown",
   "metadata": {
    "nbgrader": {
     "grade": false,
     "grade_id": "cell-16f1a60ee96ec552",
     "locked": true,
     "schema_version": 3,
     "solution": false,
     "task": false
    }
   },
   "source": [
    "**Exercise 5.4:** "
   ]
  },
  {
   "cell_type": "code",
   "execution_count": null,
   "metadata": {
    "nbgrader": {
     "grade": false,
     "grade_id": "cell-07471b53dc331edf",
     "locked": true,
     "schema_version": 3,
     "solution": false,
     "task": false
    }
   },
   "outputs": [],
   "source": [
    "# p = 2 looks ok\n",
    "p = 2\n",
    "plt.plot(t2**p,v2)\n",
    "# A decent label(we can use the  variable value automatically, and use latex for superscripts)\n",
    "plt.xlabel(\"$t^\"+ str(p) + \"$ (s$^\" + str(p)  +\"$)\")\n",
    "plt.ylabel(\"v (V)\")\n",
    "plt.show()"
   ]
  },
  {
   "cell_type": "markdown",
   "metadata": {
    "nbgrader": {
     "grade": false,
     "grade_id": "cell-8c4f854c8b58688f",
     "locked": true,
     "schema_version": 3,
     "solution": false,
     "task": false
    }
   },
   "source": [
    "**Exercise 5.5:** "
   ]
  },
  {
   "cell_type": "code",
   "execution_count": null,
   "metadata": {
    "nbgrader": {
     "grade": false,
     "grade_id": "cell-d36fac25feffba52",
     "locked": true,
     "schema_version": 3,
     "solution": false,
     "task": false
    }
   },
   "outputs": [],
   "source": [
    "# p = 2 looks ok\n",
    "plt.plot(np.log(t2),np.log(v2),'o', label=\"Data\")\n",
    "\n",
    "# Now a straight line\n",
    "# This is a bit tricky, we need the same x-range as the data\n",
    "# My best estimate of the slope is 2.3\n",
    "x = np.log(t2)\n",
    "p = 2.3\n",
    "y = p*x\n",
    "plt.plot(x,y, label=\"Slope = \" + str(p))\n",
    "plt.legend()\n",
    "\n",
    "# A decent label(we can use the  variable value automatically, and use latex for superscripts)\n",
    "plt.xlabel(\"log(t) (log(s))\")\n",
    "plt.ylabel(\"log(v) (log(V))\")\n",
    "plt.show()"
   ]
  },
  {
   "cell_type": "markdown",
   "metadata": {
    "nbgrader": {
     "grade": false,
     "grade_id": "cell-b429d77d3941e298",
     "locked": true,
     "schema_version": 3,
     "solution": false,
     "task": false
    }
   },
   "source": [
    "**Exercise 5.6:** "
   ]
  },
  {
   "cell_type": "code",
   "execution_count": null,
   "metadata": {
    "nbgrader": {
     "grade": false,
     "grade_id": "cell-20348d9d40f824cb",
     "locked": true,
     "schema_version": 3,
     "solution": false,
     "task": false
    }
   },
   "outputs": [],
   "source": [
    "a=2\n",
    "p=2.34\n",
    "plt.plot(t2,v2, 'o', label='Data')\n",
    "plt.plot(t2,a*t2**p, label='Model')\n",
    "plt.legend()\n",
    "plt.xlabel(\"t (s)\")\n",
    "plt.ylabel(\"v (V)\")\n",
    "plt.show()"
   ]
  },
  {
   "cell_type": "markdown",
   "metadata": {
    "nbgrader": {
     "grade": false,
     "grade_id": "cell-9e6875ad01124e78",
     "locked": true,
     "schema_version": 3,
     "solution": false,
     "task": false
    }
   },
   "source": [
    "**Exercise 5.7:** "
   ]
  },
  {
   "cell_type": "code",
   "execution_count": null,
   "metadata": {
    "nbgrader": {
     "grade": false,
     "grade_id": "cell-f37090f982584db3",
     "locked": true,
     "schema_version": 3,
     "solution": false,
     "task": false
    }
   },
   "outputs": [],
   "source": [
    "def f2(t,a,p):\n",
    "    return a*t**p\n",
    "\n",
    "values, covariance = curve_fit(f2, t2, v2)\n",
    "\n",
    "a_fit = values[0]\n",
    "p_fit = values[1]\n",
    "\n",
    "print(values)\n",
    "\n",
    "plt.plot(t2,v2, 'o', label='Data')\n",
    "plt.plot(t2,f2(t2,a_fit,p_fit), label='Model')\n",
    "plt.legend()\n",
    "plt.xlabel(\"t (s)\")\n",
    "plt.ylabel(\"v (V)\")\n",
    "plt.show()"
   ]
  },
  {
   "cell_type": "markdown",
   "metadata": {
    "nbgrader": {
     "grade": false,
     "grade_id": "cell-cd2f7a62303d00d3",
     "locked": true,
     "schema_version": 3,
     "solution": false,
     "task": false
    }
   },
   "source": [
    "**Exercise 5.8**"
   ]
  },
  {
   "cell_type": "code",
   "execution_count": null,
   "metadata": {},
   "outputs": [],
   "source": [
    "x_meas = np.arange(0,10.1,0.3)\n",
    "y_meas = 0.2345*x_meas**2 + 3.045*x_meas + np.random.normal(0,1.5,len(x_meas))\n",
    "\n",
    "#your code here                                   \n",
    "plt.figure(figsize=(3,3))\n",
    "plt.plot(x_meas,y_meas,'k.')\n",
    "plt.show()\n",
    "         \n",
    "#first guess\n",
    "def function_fit(x,a):\n",
    "    return a*x**2\n",
    "\n",
    "val, cov = curve_fit(function_fit,x_meas,y_meas)\n",
    "x_test = np.linspace(min(x_meas),max(x_meas),1000)\n",
    "\n",
    "plt.figure(figsize=(3,3))\n",
    "plt.plot(x_meas,y_meas,'k.')\n",
    "plt.plot(x_test,function_fit(x_test,*val))\n",
    "plt.show()\n",
    "\n",
    "plt.figure(figsize=(3,3))\n",
    "plt.plot(x_meas,y_meas-function_fit(x_meas,*val),'k.')\n",
    "plt.show()\n",
    "\n",
    "#there is a pattern in the residuals, so our formula does not sufffice\n",
    "\n",
    "#second guess\n",
    "def function_fit(x,a,b,c):\n",
    "    return a*x**2+b*x+c\n",
    "\n",
    "val, cov = curve_fit(function_fit,x_meas,y_meas)\n",
    "x_test = np.linspace(min(x_meas),max(x_meas),1000)\n",
    "\n",
    "plt.figure(figsize=(3,3))\n",
    "plt.plot(x_meas,y_meas,'k.')\n",
    "plt.plot(x_test,function_fit(x_test,*val))\n",
    "plt.show()\n",
    "\n",
    "plt.figure(figsize=(3,3))\n",
    "plt.plot(x_meas,y_meas-function_fit(x_meas,*val),'k.')\n",
    "plt.show()\n",
    "\n",
    "plt.figure(figsize=(3,3))\n",
    "plt.hist(y_meas-function_fit(x_meas,*val),bins=int(len(x_meas)/3))\n",
    "plt.show()\n",
    "\n",
    "#looks a bit gauss distributed\n",
    "print('the formula is: a*x**2+b*x+c with parameters a = %.2f +/- %.2f, b= %.1f+/-%.1f, c=%.1f+/-%.1f' %(val[0],np.sqrt(cov[0,0]),val[1],np.sqrt(cov[1,1]),val[2],np.sqrt(cov[2,2])))\n",
    "#Note that the number of decimal placed can differ as each time a new dataset is made!"
   ]
  },
  {
   "cell_type": "markdown",
   "metadata": {},
   "source": [
    "**Exercise 5.8***"
   ]
  },
  {
   "cell_type": "code",
   "execution_count": null,
   "metadata": {
    "nbgrader": {
     "grade": false,
     "grade_id": "cell-c98f0fc3f9dfe50e",
     "locked": true,
     "schema_version": 3,
     "solution": false,
     "task": false
    },
    "scrolled": true
   },
   "outputs": [],
   "source": [
    "a_err = np.sqrt(covariance[0,0])\n",
    "p_err = np.sqrt(covariance[1,1])\n",
    "\n",
    "# Uncomment to debug :)\n",
    "#print(a_err)\n",
    "#print(p_err)\n",
    "\n",
    "# A bit nerdy but cool: automatically format the string output with the \n",
    "# correct number of digits :)\n",
    "\n",
    "# (you can also just read off the number of digits by hand and \"hard code\" it...)\n",
    "\n",
    "a_dig = -(int(np.log10(a_err))-1)\n",
    "p_dig = -(int(np.log10(p_err))-1)\n",
    "\n",
    "# Uncomment to debug :)\n",
    "#print(a_dig)\n",
    "#print(p_dig)\n",
    "\n",
    "a_fmt = \"%.\" + str(a_dig) + \"f\"\n",
    "p_fmt = \"%.\" + str(p_dig) + \"f\"\n",
    "\n",
    "# The units on a are a bit funny, so we'll skip the units on this one...\n",
    "a_msg = \"a has the value %s +/- %s\" % (a_fmt, a_fmt)\n",
    "a_msg = a_msg % (a_fit, a_err)\n",
    "print(a_msg)\n",
    "\n",
    "p_msg = \"p has the value %s +/- %s\" % (p_fmt, p_fmt)\n",
    "p_msg = p_msg % (p_fit, p_err)\n",
    "print(p_msg)"
   ]
  },
  {
   "cell_type": "markdown",
   "metadata": {},
   "source": [
    "**Exercise 5.9**"
   ]
  },
  {
   "cell_type": "code",
   "execution_count": null,
   "metadata": {},
   "outputs": [],
   "source": [
    "y = 2.064 * np.cos(0.25*(2*np.pi)*x+0.45)+0.0075*x"
   ]
  },
  {
   "cell_type": "code",
   "execution_count": null,
   "metadata": {},
   "outputs": [],
   "source": [
    "#load our data\n",
    "data = np.loadtxt('dataset.csv',delimiter=';')\n",
    "\n",
    "x_data = data[:,0]\n",
    "y_data = data[:,1]\n",
    "\n",
    "x_test = np.linspace(min(x_data),max(x_data),1000)\n",
    "    \n",
    "#see what it looks like\n",
    "plt.figure()\n",
    "plt.plot(x_data,y_data,'k.')\n",
    "plt.show()\n",
    "\n",
    "#First guess:\n",
    "def functie(x,a,b,c):\n",
    "    return a*np.cos(b*x+c)\n",
    "\n",
    "val, cov = curve_fit(functie,x_data,y_data,p0=(2.05,1.57,0.5))\n",
    "print(val)\n",
    "#see what it yields, playing with the inital guesses is required!\n",
    "plt.figure()\n",
    "plt.plot(x_data,y_data,'k.')\n",
    "plt.plot(x_test,functie(x_test,*val))\n",
    "plt.show()\n",
    "\n",
    "#looking at the residuals\n",
    "plt.figure()\n",
    "plt.plot(x_data,y_data-functie(x_data,*val))\n",
    "plt.show()\n",
    "\n",
    "#Our data clearly shows a hidden pattern!!!\n",
    "#second guess\n",
    "\n",
    "def functie(x,a,b,c,d):\n",
    "    return a*np.cos(b*x+c)+d*x\n",
    "\n",
    "val, cov = curve_fit(functie,x_data,y_data,p0=(2.05,1.57,0.5,0.05)) #estimate for d from slope\n",
    "print(val)\n",
    "\n",
    "\n",
    "plt.figure()\n",
    "plt.plot(x_data,y_data,'k.')\n",
    "plt.plot(x_test,functie(x_test,*val))\n",
    "plt.show()\n",
    "\n",
    "#looking at the residuals\n",
    "plt.figure()\n",
    "plt.plot(x_data,y_data-functie(x_data,*val))\n",
    "plt.show()"
   ]
  },
  {
   "cell_type": "code",
   "execution_count": null,
   "metadata": {},
   "outputs": [],
   "source": [
    "x = np.linspace(0,6*np.pi,200)\n",
    "y = 2.064 * np.cos(0.25*(2*np.pi)*x+0.45)+0.0075*x\n",
    "\n",
    "dataset = np.zeros([len(x),2])\n",
    "dataset[:,0] = x\n",
    "dataset[:,1] = y\n",
    "np.savetxt('dataset.csv',dataset,delimiter=';')\n",
    "plt.figure()\n",
    "plt.plot(x,y,'k.')\n",
    "plt.show()"
   ]
  },
  {
   "cell_type": "code",
   "execution_count": null,
   "metadata": {},
   "outputs": [],
   "source": []
  },
  {
   "cell_type": "code",
   "execution_count": null,
   "metadata": {},
   "outputs": [],
   "source": []
  }
 ],
 "metadata": {
  "celltoolbar": "Create Assignment",
  "jupytext": {
   "formats": "ipynb,md"
  },
  "kernelspec": {
   "display_name": "Python 3 (ipykernel)",
   "language": "python",
   "name": "python3"
  },
  "language_info": {
   "codemirror_mode": {
    "name": "ipython",
    "version": 3
   },
   "file_extension": ".py",
   "mimetype": "text/x-python",
   "name": "python",
   "nbconvert_exporter": "python",
   "pygments_lexer": "ipython3",
   "version": "3.9.16"
  },
  "toc": {
   "base_numbering": "5",
   "nav_menu": {},
   "number_sections": true,
   "sideBar": true,
   "skip_h1_title": false,
   "title_cell": "Table of Contents",
   "title_sidebar": "Contents",
   "toc_cell": false,
   "toc_position": {
    "height": "calc(100% - 180px)",
    "left": "10px",
    "top": "150px",
    "width": "249.797px"
   },
   "toc_section_display": true,
   "toc_window_display": true
  }
 },
 "nbformat": 4,
 "nbformat_minor": 4
}
